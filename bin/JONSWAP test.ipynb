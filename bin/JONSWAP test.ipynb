{
 "cells": [
  {
   "cell_type": "code",
   "execution_count": 1,
   "metadata": {
    "collapsed": true
   },
   "outputs": [],
   "source": [
    "import timeit"
   ]
  },
  {
   "cell_type": "markdown",
   "metadata": {},
   "source": [
    "JONSWAP"
   ]
  },
  {
   "cell_type": "code",
   "execution_count": 2,
   "metadata": {
    "collapsed": true
   },
   "outputs": [],
   "source": [
    "def jonswap(f, Hm0, Tp, gamma=3.3, sigma_low=.07, sigma_high=.09, g=9.81, method='yamaguchi', normalize=False):\n",
    "        \"\"\"\n",
    "        Generate JONSWAP spectrum\n",
    "\n",
    "        Parameters\n",
    "        ----------\n",
    "        Hm0 : float\n",
    "            Required zeroth order moment wave height\n",
    "        Tp : float\n",
    "            Required peak wave period\n",
    "        gamma : float\n",
    "            JONSWAP peak-enhancement factor (default: 3.3)\n",
    "        sigma_low : float\n",
    "            Sigma value for frequencies <= ``1/Tp`` (default: 0.07)\n",
    "        sigma_high : float\n",
    "            Sigma value for frequencies > ``1/Tp`` (default: 0.09)\n",
    "        g : float\n",
    "            Gravitational constant (default: 9.81)\n",
    "        method : str\n",
    "            Method to compute alpha (default: yamaguchi)\n",
    "        normalize : bool\n",
    "            Normalize resulting spectrum to match ``Hm0``\n",
    "    \n",
    "        Returns\n",
    "        -------\n",
    "        E : numpy.ndarray\n",
    "            Array of shape ``f`` with wave energy densities \n",
    "    \n",
    "        \"\"\"\n",
    "\n",
    "        # Pierson-Moskowitz\n",
    "        if method.lower() == 'yamaguchi':\n",
    "            alpha = 1. / (.06533 * gamma ** .8015 + .13467) / 16.\n",
    "        elif method.lower() == 'goda':\n",
    "            alpha = 1. / (.23 + .03 * gamma - .185 / (1.9 + gamma)) / 16.\n",
    "        else:\n",
    "            raise ValueError('Unknown method: {}'.format(method))\n",
    "            \n",
    "        # TODO radialen per seconde\n",
    "        # E_pm(f) = alpha_pm * g^2 (2pi)^-4 f^-5 exp(-(5/4) * (f/f_PM)^-4 )\n",
    "        E_pm = alpha * Hm0 ** 2 * Tp ** -4 * f ** -5 * np.exp(-1.25 * (Tp * f) ** -4)\n",
    "        \n",
    "        # JONSWAP\n",
    "        sigma = np.ones(f.shape) * sigma_low\n",
    "        sigma[f > 1. / Tp] = sigma_high\n",
    "\n",
    "        E_js = E_pm * gamma ** np.exp(-0.5 * (Tp * f - 1) ** 2. / sigma ** 2.)\n",
    "    \n",
    "        if normalize:\n",
    "            E_js *= Hm0 ** 2. / (16. * np.trapz(E_js, f))\n",
    "        \n",
    "        return E_js"
   ]
  },
  {
   "cell_type": "code",
   "execution_count": 3,
   "metadata": {
    "collapsed": false
   },
   "outputs": [],
   "source": [
    "def jonswap_2d(f, theta, S_1d, Hm0, Tp, Theta, spread, g=9.81, test=False):\n",
    "        \"\"\"\n",
    "        Calculates a 2d JONSWAP spectral density\n",
    "\n",
    "        Parameters\n",
    "        ----------\n",
    "        S_1d : numpy.ndarray\n",
    "            Array with 1d wave energy densities \n",
    "        Hm0 : float\n",
    "            Required zeroth order moment wave height\n",
    "        Tp : float\n",
    "            Required peak wave period\n",
    "        Theta : float\n",
    "            mean wave direction [deg] w.r.t. North\n",
    "        spread : float\n",
    "            Determines the spreading [-]\n",
    "        g : float\n",
    "            Gravitational constant (default: 9.81)\n",
    "        test : bool\n",
    "            Whether to check the resulting wave height with the input waveheight\n",
    "\n",
    "        Returns\n",
    "        -------\n",
    "        s2d : numpy.ndarray\n",
    "            the spectral density\n",
    "        \"\"\"\n",
    "        \n",
    "        # peak frequency\n",
    "        fp = 1.0 / Tp\n",
    "    \n",
    "        # Determine the stepsize in the directions\n",
    "        dtheta = np.deg2rad(np.diff(theta[:2])[0])\n",
    "        bins = np.deg2rad(theta % 360)\n",
    "        theta0 = np.deg2rad(Theta % 360)\n",
    "\n",
    "        nf = len(f)\n",
    "        nd = len(theta)\n",
    "\n",
    "        # If the spread is not given, compute it\n",
    "        if spread is None:\n",
    "            # deep water wave steepness\n",
    "            steepness = Hm0 / (g * Tp ** 2. / (2. * np.pi))\n",
    "            # computation of parameter smax\n",
    "            steepness_points = [0, 0.005, 0.01, 0.02, 0.03, 0.04, 0.05, 1.0]\n",
    "            smax_points = [160, 160, 70, 35, 20, 7, 2.001, 2.0]\n",
    "            # Interpolate linear\n",
    "            smax = np.interp(steepness, steepness_points, smax_points)\n",
    "            # Calculate spread for all frequencies\n",
    "            power = np.ones_like(f) * -2.5\n",
    "            power[f <= fp] = 5.0\n",
    "            spread = (f / fp) ** (power * smax)\n",
    "\n",
    "        # If given as input, create array of the number\n",
    "        else:\n",
    "            spread = np.ones_like(f) * spread\n",
    "            \n",
    "        # Convert to range -np.pi to np.pi relative to the mean wave direction\n",
    "        Az = ( ((bins - theta0) + np.pi) % (2 * np.pi) - np.pi ) / 2\n",
    "        \n",
    "        # computation of G0 (Equation 2.23) for all frequencies\n",
    "        G0 = 1 / np.sum(np.cos(Az[:, np.newaxis]) ** (2 * spread[np.newaxis, :]), axis=0)\n",
    "        \n",
    "        # If the direction is (smaller than half pi) AND (larger than minus half pi), so\n",
    "        # if the direction is from the 'right' half of the circle\n",
    "        G = G0[:, np.newaxis] * np.cos(Az[np.newaxis, :]) ** (2.0 * spread[:, np.newaxis]) / dtheta\n",
    "        S_2d = S_1d[:, np.newaxis] * G\n",
    "                \n",
    "        # If it is from the other side of the spectrum\n",
    "        S_2d[:, np.abs(Az) > np.pi / 2.0] = 0.\n",
    "\n",
    "        if test:\n",
    "            # Multiply each energy density bin width its area and sum. Calculate wave height from this\n",
    "            Hm0_1D_test = 4 * np.sqrt(np.trapz(S_1d, f))\n",
    "            Hm0_2D_test = 4 * np.sqrt(np.trapz(S_2d.sum(axis=1) * dtheta, f).sum())\n",
    "\n",
    "            print('Input Hm0: {:.5f} m\\nJONSWAP 1D Hm0: {:.5f} m\\nJONSWAP 2D Hm0: {:.5f} m'.format(\n",
    "                Hm0, Hm0_1D_test, Hm0_2D_test\n",
    "            ))\n",
    "        \n",
    "\n",
    "        return S_2d"
   ]
  },
  {
   "cell_type": "code",
   "execution_count": 4,
   "metadata": {
    "collapsed": false
   },
   "outputs": [],
   "source": [
    "import numpy as np\n",
    "import matplotlib.pyplot as plt\n",
    "\n",
    "% matplotlib inline"
   ]
  },
  {
   "cell_type": "code",
   "execution_count": 5,
   "metadata": {
    "collapsed": false
   },
   "outputs": [
    {
     "data": {
      "image/png": "[encoded data removed]",
      "text/plain": [
       "<matplotlib.figure.Figure at 0x1b3601e9860>"
      ]
     },
     "metadata": {},
     "output_type": "display_data"
    }
   ],
   "source": [
    "frequencies = np.logspace(np.log10(0.1), np.log10(1.0), 37)\n",
    "# frequencies = np.linspace(0.1, 1.0, 101)\n",
    "Tp = 4.0\n",
    "Hm0 = 2.0\n",
    "E_js1 = jonswap(frequencies, Hm0, Tp, method='yamaguchi')\n",
    "E_js2 = jonswap(frequencies, Hm0, Tp, method='goda')\n",
    "\n",
    "fig, ax = plt.subplots()\n",
    "ax.plot(frequencies, E_js1, label='yamaguchi', lw=0.75, marker='.' )\n",
    "ax.plot(frequencies, E_js2, label='goda', lw=0.75, marker='.' )\n",
    "ax.legend()\n",
    "ax.grid()"
   ]
  },
  {
   "cell_type": "code",
   "execution_count": 6,
   "metadata": {
    "collapsed": false
   },
   "outputs": [
    {
     "name": "stdout",
     "output_type": "stream",
     "text": [
      "1.22218659282\n"
     ]
    }
   ],
   "source": [
    "print(4 * np.sqrt(np.sum(E_js1 * np.diff(frequencies[:2]))))"
   ]
  },
  {
   "cell_type": "code",
   "execution_count": 7,
   "metadata": {
    "collapsed": false
   },
   "outputs": [
    {
     "name": "stdout",
     "output_type": "stream",
     "text": [
      "0.028\n",
      "Input Hm0: 2.00000 m\n",
      "JONSWAP 1D Hm0: 1.99880 m\n",
      "JONSWAP 2D Hm0: 1.99880 m\n"
     ]
    }
   ],
   "source": [
    "directions = np.arange(0, 360, 5)\n",
    "# S_2d = spread_jonswap_2d2(f=frequencies, theta=directions, S_1d=E_js, Hm0=4.0, Tp=2.0, Theta=90, spread=10)\n",
    "print(0.028)\n",
    "S_2d = jonswap_2d(f=frequencies, theta=directions, S_1d=E_js1, Hm0=Hm0, Tp=Tp, Theta=250, spread=10, test=True)"
   ]
  },
  {
   "cell_type": "code",
   "execution_count": 8,
   "metadata": {
    "collapsed": false
   },
   "outputs": [
    {
     "data": {
      "text/plain": [
       "<matplotlib.image.AxesImage at 0x1b3606cce48>"
      ]
     },
     "execution_count": 8,
     "metadata": {},
     "output_type": "execute_result"
    },
    {
     "data": {
      "image/png": "[encoded data removed]",
      "text/plain": [
       "<matplotlib.figure.Figure at 0x1b35e2ea7f0>"
      ]
     },
     "metadata": {},
     "output_type": "display_data"
    }
   ],
   "source": [
    "plt.imshow(\n",
    "    S_2d,\n",
    "    extent=(\n",
    "        directions.min(),\n",
    "        directions.max(),\n",
    "        frequencies.min(),\n",
    "        frequencies.max()\n",
    "    ),\n",
    "    aspect=100\n",
    ")"
   ]
  },
  {
   "cell_type": "markdown",
   "metadata": {
    "collapsed": false
   },
   "source": [
    "# TP,smooth"
   ]
  },
  {
   "cell_type": "code",
   "execution_count": 9,
   "metadata": {
    "collapsed": false
   },
   "outputs": [
    {
     "name": "stdout",
     "output_type": "stream",
     "text": [
      "14\n",
      "3.99092696932\n",
      "0.25056835359\n"
     ]
    },
    {
     "data": {
      "image/png": "[encoded data removed]",
      "text/plain": [
       "<matplotlib.figure.Figure at 0x1b360237be0>"
      ]
     },
     "metadata": {},
     "output_type": "display_data"
    }
   ],
   "source": [
    "E_js = jonswap(frequencies, Hm0, Tp, method='yamaguchi')\n",
    "imax = np.argmax(E_js)\n",
    "print(imax)\n",
    "fgrid = np.linspace(frequencies[imax - 1], frequencies[imax + 1], 100)\n",
    "y = np.polyval(np.polyfit(frequencies[imax-1:imax+2], E_js[imax-1:imax+2], 2), fgrid)\n",
    "\n",
    "print(1./ fgrid[np.argmax(y)])\n",
    "print(fgrid[np.argmax(y)].max())\n",
    "\n",
    "fig, ax = plt.subplots(figsize=(20,10))\n",
    "ax.plot(frequencies, E_js, label='yamaguchi', lw=0.75, marker='.' )\n",
    "ax.plot(fgrid, y, label='2nd order fit', lw=0.75)\n",
    "ax.legend()\n",
    "ax.grid()"
   ]
  },
  {
   "cell_type": "code",
   "execution_count": 10,
   "metadata": {
    "collapsed": false
   },
   "outputs": [
    {
     "data": {
      "text/plain": [
       "4.0842386526745216"
      ]
     },
     "execution_count": 10,
     "metadata": {},
     "output_type": "execute_result"
    }
   ],
   "source": [
    "1./frequencies[np.argmax(E_js)]"
   ]
  },
  {
   "cell_type": "code",
   "execution_count": 11,
   "metadata": {
    "collapsed": false
   },
   "outputs": [
    {
     "data": {
      "text/plain": [
       "array([14, 14, 14, 14, 14, 14, 14, 14, 14, 14, 14, 14, 14, 14,  0, 14, 14,\n",
       "       14, 14, 14, 14, 14, 14, 14, 14, 14, 14, 14, 14, 14, 14, 14, 14, 14,\n",
       "       14, 14, 14, 14, 14, 14, 14, 14, 14, 14, 14, 14, 14, 14, 14, 14, 14,\n",
       "       14, 14, 14, 14, 14, 14, 14, 14, 14, 14, 14, 14, 14, 14, 14, 14, 14,\n",
       "       14, 14, 14, 14], dtype=int64)"
      ]
     },
     "execution_count": 11,
     "metadata": {},
     "output_type": "execute_result"
    }
   ],
   "source": [
    "np.argmax(S_2d, axis=0)"
   ]
  },
  {
   "cell_type": "code",
   "execution_count": 12,
   "metadata": {
    "collapsed": false
   },
   "outputs": [],
   "source": [
    "def Tp_smooth(energy, f):\n",
    "    \"\"\"\n",
    "    Calculate the peak period with a fit \n",
    "    \"\"\"\n",
    "\n",
    "    Tp_smooth = np.zeros(np.size(energy, axis=1))\n",
    "    fp_local = np.zeros(np.size(energy, axis=3))\n",
    "    Ep_local = np.zeros_like(fp_local)\n",
    "\n",
    "    # 1/ the frequency where the energy per direction is largest.\n",
    "    for ilocatie, spectrum in enumerate(energy[0]):\n",
    "        # Determine frequencies with highest energy per direction\n",
    "        imaxs = np.argmax(spectrum, axis=0)\n",
    "        \n",
    "        # For each direction\n",
    "        for j, (imax, energy_per_f) in enumerate(zip(imaxs, spectrum.T)):\n",
    "            # If the peak highest frequency is found on the edges, dont fit\n",
    "            if imax == 0 or imax == len(energy_per_f)-1:\n",
    "                fp_local[j] = f[imax]\n",
    "\n",
    "            # Else, polyfit the peak\n",
    "            else:\n",
    "                # Create a parabolic fit trough the top 3 points\n",
    "                p = np.polyfit(f[imax - 1:imax + 2], energy_per_f[imax - 1:imax + 2], 2)\n",
    "                fgrid = np.linspace(f[imax - 1], f[imax + 1], 100)\n",
    "                Epfit = np.polyval(p, fgrid)\n",
    "\n",
    "                # Save the max energy and the frequency at the max\n",
    "                Ep_local[j] = Epfit.max()\n",
    "                fp_local[j] = fgrid[Epfit.argmax()]\n",
    "                \n",
    "        # Take the peak period at the maximum energy density\n",
    "        Tp_smooth[ilocatie] = 1 / fp_local[np.argmax(Ep_local)]\n",
    "\n",
    "    return Tp_smooth"
   ]
  },
  {
   "cell_type": "code",
   "execution_count": 13,
   "metadata": {
    "collapsed": false
   },
   "outputs": [
    {
     "data": {
      "text/plain": [
       "(1, 10, 37, 72)"
      ]
     },
     "execution_count": 13,
     "metadata": {},
     "output_type": "execute_result"
    }
   ],
   "source": [
    "energy = np.stack([S_2d] * 10)\n",
    "energy = energy[np.newaxis, :, :, :]\n",
    "energy.shape"
   ]
  },
  {
   "cell_type": "code",
   "execution_count": 14,
   "metadata": {
    "collapsed": false,
    "scrolled": true
   },
   "outputs": [
    {
     "name": "stdout",
     "output_type": "stream",
     "text": [
      "[ 3.99092697  3.99092697  3.99092697  3.99092697  3.99092697  3.99092697\n",
      "  3.99092697  3.99092697  3.99092697  3.99092697]\n",
      "0.07537177795692414\n"
     ]
    }
   ],
   "source": [
    "st = timeit.default_timer()\n",
    "print(Tp_smooth(energy, frequencies))\n",
    "print(timeit.default_timer() - st)"
   ]
  },
  {
   "cell_type": "code",
   "execution_count": 81,
   "metadata": {
    "collapsed": false
   },
   "outputs": [],
   "source": [
    "def calc_parabola_vertex(x, y):\n",
    "        '''\n",
    "        Adapted and modifed to get the unknowns for defining a parabola:\n",
    "        http://stackoverflow.com/questions/717762/how-to-calculate-the-vertex-of-a-parabola-given-three-points\n",
    "        '''\n",
    "        x1, x2, x3 = x\n",
    "        y1, y2, y3 = y\n",
    "        denom = (x1-x2) * (x1-x3) * (x2-x3)\n",
    "        A = (x3 * (y2-y1) + x2 * (y1-y3) + x1 * (y3-y2)) / denom\n",
    "        B = (x3**2 * (y1-y2) + x2**2 * (y3-y1) + x1**2 * (y2-y3)) / denom\n",
    "        C = (x2 * x3 * (x2-x3) * y1+x3 * x1 * (x3-x1) * y2+x1 * x2 * (x1-x2) * y3) / denom\n",
    "\n",
    "        return A, B, C\n",
    "\n",
    "def Tp_smooth(energy, f):\n",
    "    \"\"\"\n",
    "    Calculate the peak period with a fit \n",
    "    \"\"\"\n",
    "    nt, nxy, nf, nd = np.shape(energy)\n",
    "    \n",
    "    Tp_smooth = np.zeros(nxy)\n",
    "    fp_local = np.zeros(nd)\n",
    "    Ep_local = np.zeros(nd)\n",
    "\n",
    "    # 1/ the frequency where the energy per direction is largest.\n",
    "    for ilocatie, spectrum in enumerate(energy[0]):\n",
    "        # Determine frequencies with highest energy per direction\n",
    "        imaxs = np.argmax(spectrum, axis=0)\n",
    "        \n",
    "        # Determine which directions need to be fitted\n",
    "        fit_indices = np.ones(nd, dtype=bool)\n",
    "        fit_indices[(imaxs == 0) + (imaxs == (nf-1))] = False\n",
    "\n",
    "        # Determine the frequencies to pick\n",
    "        f_ind = np.hstack([np.arange(imax-1, imax+2) for imax in imaxs[fit_indices]])\n",
    "        # Determine the directions to pick\n",
    "        d_ind = np.repeat(np.arange(len(fit_indices))[fit_indices], 3)\n",
    "        # Pick frequencies and energies, and reshape for fitting\n",
    "        frequencies = f[f_ind].reshape(3, sum(fit_indices), order='F')\n",
    "        energies = spectrum.T[d_ind, f_ind].reshape(3, sum(fit_indices), order='F')\n",
    "        \n",
    "        # Create a parabola trough the top 3 points\n",
    "        A, B, C = calc_parabola_vertex(\n",
    "            x=frequencies,\n",
    "            y=energies\n",
    "        )\n",
    "        # Calculate the max frequency by calculating f'(x) = 0 : x = -B/(2A)\n",
    "        fmax = -B / (2 * A)\n",
    "        # Calculate energy\n",
    "        Ep_local[fit_indices] = A * fmax ** 2 + B * fmax + C\n",
    "        fp_local[fit_indices] = fmax\n",
    "        \n",
    "        # Take the peak period at the maximum energy density\n",
    "        Tp_smooth[ilocatie] = 1 / fp_local[np.argmax(Ep_local)]\n",
    "\n",
    "    return Tp_smooth"
   ]
  },
  {
   "cell_type": "code",
   "execution_count": 82,
   "metadata": {
    "collapsed": false
   },
   "outputs": [
    {
     "name": "stdout",
     "output_type": "stream",
     "text": [
      "[ 3.99317415  3.99317415  3.99317415  3.99317415  3.99317415  3.99317415\n",
      "  3.99317415  3.99317415  3.99317415  3.99317415]\n",
      "0.005491073212624542\n"
     ]
    }
   ],
   "source": [
    "st = timeit.default_timer()\n",
    "print(Tp_smooth(energy, frequencies))\n",
    "print(timeit.default_timer() - st)"
   ]
  },
  {
   "cell_type": "code",
   "execution_count": 83,
   "metadata": {
    "collapsed": false
   },
   "outputs": [],
   "source": [
    "p = np.poly1d([1,1,1,1])\n",
    "p2 = np.polyder(p)"
   ]
  },
  {
   "cell_type": "code",
   "execution_count": 86,
   "metadata": {
    "collapsed": false
   },
   "outputs": [
    {
     "data": {
      "text/plain": [
       "array([ 2, 18, 12,  7,  3,  3])"
      ]
     },
     "execution_count": 86,
     "metadata": {},
     "output_type": "execute_result"
    }
   ],
   "source": [
    "a = np.arange(20).reshape((4, 5))\n",
    "a[[0, 3, 2, 1, 0, 0], [2, 3, 2, 2, 3, 3]]"
   ]
  },
  {
   "cell_type": "code",
   "execution_count": 87,
   "metadata": {
    "collapsed": false
   },
   "outputs": [
    {
     "data": {
      "text/plain": [
       "0"
      ]
     },
     "execution_count": 87,
     "metadata": {},
     "output_type": "execute_result"
    }
   ],
   "source": [
    "a = np.zeros(10)\n",
    "np.argmax(a)"
   ]
  },
  {
   "cell_type": "code",
   "execution_count": 98,
   "metadata": {
    "collapsed": true
   },
   "outputs": [],
   "source": [
    "def calc_optimum(f, E):\n",
    "    # Create a parabolic fit trough the top 3 points\n",
    "    A, B, C = calc_parabola_vertex(f, E)\n",
    "    f_max = -B / (2 * A)\n",
    "    E_max = A * f_max ** 2 + B * f_max + C\n",
    "\n",
    "    return E_max, f_max\n",
    "\n",
    "\n",
    "def Tp_smooth(energy, f):\n",
    "    \"\"\"\n",
    "    Calculate the peak period with a fit \n",
    "    \"\"\"\n",
    "\n",
    "    Tp_smooth = np.zeros(np.size(energy, axis=1))\n",
    "    fp_local = np.zeros(np.size(energy, axis=3))\n",
    "    Ep_local = np.zeros_like(fp_local)\n",
    "\n",
    "    # 1/ the frequency where the energy per direction is largest.\n",
    "    for ilocatie, spectrum in enumerate(energy[0]):\n",
    "        # Determine frequencies with highest energy per direction\n",
    "        imaxs = np.argmax(spectrum, axis=0)\n",
    "        \n",
    "        # For each direction\n",
    "        for j, (imax, energy_per_f) in enumerate(zip(imaxs, spectrum.T)):\n",
    "            # If the peak highest frequency is found on the edges, dont fit\n",
    "            if imax == 0 or imax == len(energy_per_f)-1:\n",
    "                fp_local[j] = f[imax]\n",
    "                Ep_local[j] = energy_per_f[imax]\n",
    "\n",
    "            # Else, polyfit the peak\n",
    "            else:\n",
    "                # Save the max energy and the frequency at the max\n",
    "                Ep_local[j], fp_local[j] = calc_optimum(f[imax - 1:imax + 2], energy_per_f[imax - 1:imax + 2])\n",
    "\n",
    "                \n",
    "        # Take the peak period at the maximum energy density\n",
    "        Tp_smooth[ilocatie] = 1 / fp_local[np.argmax(Ep_local)]\n",
    "\n",
    "    return Tp_smooth"
   ]
  },
  {
   "cell_type": "code",
   "execution_count": 99,
   "metadata": {
    "collapsed": false
   },
   "outputs": [
    {
     "name": "stdout",
     "output_type": "stream",
     "text": [
      "[ 3.99317415  3.99317415  3.99317415  3.99317415  3.99317415  3.99317415\n",
      "  3.99317415  3.99317415  3.99317415  3.99317415]\n",
      "0.007883408365614741\n"
     ]
    }
   ],
   "source": [
    "st = timeit.default_timer()\n",
    "print(Tp_smooth(energy, frequencies))\n",
    "print(timeit.default_timer() - st)"
   ]
  },
  {
   "cell_type": "code",
   "execution_count": null,
   "metadata": {
    "collapsed": true
   },
   "outputs": [],
   "source": []
  },
  {
   "cell_type": "code",
   "execution_count": null,
   "metadata": {
    "collapsed": true
   },
   "outputs": [],
   "source": []
  }
 ],
 "metadata": {
  "kernelspec": {
   "display_name": "Python 3",
   "language": "python",
   "name": "python3"
  },
  "language_info": {
   "codemirror_mode": {
    "name": "ipython",
    "version": 3
   },
   "file_extension": ".py",
   "mimetype": "text/x-python",
   "name": "python",
   "nbconvert_exporter": "python",
   "pygments_lexer": "ipython3",
   "version": "3.6.0"
  }
 },
 "nbformat": 4,
 "nbformat_minor": 2
}
