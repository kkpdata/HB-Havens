{
 "cells": [
  {
   "cell_type": "code",
   "execution_count": 1,
   "metadata": {
    "collapsed": true
   },
   "outputs": [],
   "source": [
    "# Importeer modules\n",
    "import json\n",
    "import os\n",
    "import sqlite3\n",
    "import itertools\n",
    "\n",
    "import geopandas as gpd\n",
    "import matplotlib.pyplot as plt\n",
    "import numpy as np\n",
    "import pandas as pd\n",
    "from hkvpy import hydra, spatial, background\n",
    "\n",
    "import imp\n",
    "import hulpfuncties\n",
    "imp.reload(hulpfuncties)\n",
    "\n",
    "from IPython.display import display\n",
    "\n",
    "from tqdm import tnrange\n",
    "\n",
    "%matplotlib inline"
   ]
  },
  {
   "cell_type": "markdown",
   "metadata": {},
   "source": [
    "## Definieer paden"
   ]
  },
  {
   "cell_type": "code",
   "execution_count": 2,
   "metadata": {
    "collapsed": true
   },
   "outputs": [],
   "source": [
    "# Inladen hydra-instellingen\n",
    "json_settings = '../data/hydra-instellingen.json'\n",
    "\n",
    "bruglocaties_file = '../GIS/bruglocaties.shp'\n",
    "meetlocatie_file = '../GIS/grenspeil_per_brug.shp'\n"
   ]
  },
  {
   "cell_type": "markdown",
   "metadata": {},
   "source": [
    "## Verzamelen data\n",
    "\n",
    "#### Laden rekeninstellingen"
   ]
  },
  {
   "cell_type": "code",
   "execution_count": 3,
   "metadata": {},
   "outputs": [
    {
     "name": "stdout",
     "output_type": "stream",
     "text": [
      "{\n",
      "    \"Vianen\": {\n",
      "        \"watersysteem\": \"01_bovenrijn\",\n",
      "        \"database\": {\n",
      "            \"grenspeil\": {\n",
      "                \"2018\": \"DPa_Riv_Rijn_as_2015_ref_S10_DM1p1p12_v01.mdb\",\n",
      "                \"2100G\": \"DPa_Riv_Rijn_as_2015_ref_S10_DM1p1p12_v01.mdb\"\n",
      "            },\n",
      "            \"zeespiegelstijging\": \"CR2011_BenR_Rijndombinnen_as_a_v00.mdb\"\n",
      "        },\n",
      "        \"locaties\": {\n",
      "            \"brug\": [\n",
      "                \"Lek km  952\",\n",
      "                \"Lek km  951\"\n",
      "            ],\n",
      "            \"meetlocatie\": [\n",
      "                \"Lek km  947\",\n",
      "                \"Lek km  948\"\n",
      "            ],\n",
      "            \"zeespiegelstijging\": [\n",
      "                \"Lek km 952\",\n",
      "                \"Lek km 951\"\n",
      "            ]\n",
      "        },\n",
      "        \"klimaatinstellingen\": {\n",
      "            \"zeespiegelstijging\": {\n",
      "                \"2018\": 0.0,\n",
      "                \"2100G\": 0.27\n",
      "            },\n",
      "            \"afvoerstatistiek\": {\n",
      "                \"2018\": \n"
     ]
    }
   ],
   "source": [
    "settings = json.loads(open(json_settings, 'r').read())\n",
    "print(json.dumps(settings, indent=4)[:900])"
   ]
  },
  {
   "cell_type": "markdown",
   "metadata": {},
   "source": [
    "#### Inladen bruglocaties en meetlocaties"
   ]
  },
  {
   "cell_type": "code",
   "execution_count": 4,
   "metadata": {},
   "outputs": [
    {
     "data": {
      "text/html": [
       "<div>\n",
       "<style>\n",
       "    .dataframe thead tr:only-child th {\n",
       "        text-align: right;\n",
       "    }\n",
       "\n",
       "    .dataframe thead th {\n",
       "        text-align: left;\n",
       "    }\n",
       "\n",
       "    .dataframe tbody tr th {\n",
       "        vertical-align: top;\n",
       "    }\n",
       "</style>\n",
       "<table border=\"1\" class=\"dataframe\">\n",
       "  <thead>\n",
       "    <tr style=\"text-align: right;\">\n",
       "      <th></th>\n",
       "      <th>omschrijvi</th>\n",
       "      <th>id</th>\n",
       "      <th>geometry</th>\n",
       "      <th>x</th>\n",
       "      <th>y</th>\n",
       "    </tr>\n",
       "    <tr>\n",
       "      <th>naam</th>\n",
       "      <th></th>\n",
       "      <th></th>\n",
       "      <th></th>\n",
       "      <th></th>\n",
       "      <th></th>\n",
       "    </tr>\n",
       "  </thead>\n",
       "  <tbody>\n",
       "    <tr>\n",
       "      <th>Vianen</th>\n",
       "      <td>A2 brug bij Vianen (Jan Blankenbrug)</td>\n",
       "      <td>1</td>\n",
       "      <td>POINT (133817.0127042203 445534.2400786425)</td>\n",
       "      <td>133817.012704</td>\n",
       "      <td>445534.240079</td>\n",
       "    </tr>\n",
       "    <tr>\n",
       "      <th>Weurt</th>\n",
       "      <td>Brug over het buitenhoofd van sluis Weurt</td>\n",
       "      <td>2</td>\n",
       "      <td>POINT (184997.3033994976 429693.8515127322)</td>\n",
       "      <td>184997.303399</td>\n",
       "      <td>429693.851513</td>\n",
       "    </tr>\n",
       "    <tr>\n",
       "      <th>Venlo</th>\n",
       "      <td>Stadsbrug bij Venlo</td>\n",
       "      <td>3</td>\n",
       "      <td>POINT (208905.2065446438 375782.5111840004)</td>\n",
       "      <td>208905.206545</td>\n",
       "      <td>375782.511184</td>\n",
       "    </tr>\n",
       "    <tr>\n",
       "      <th>Postbrug</th>\n",
       "      <td>Postbrug (Kanaal door Zuid-Beveland)</td>\n",
       "      <td>4</td>\n",
       "      <td>POINT (58985.60639347549 390727.3105943904)</td>\n",
       "      <td>58985.606393</td>\n",
       "      <td>390727.310594</td>\n",
       "    </tr>\n",
       "    <tr>\n",
       "      <th>Vlake</th>\n",
       "      <td>Vlakespoorbrug (Kanaal door Zuid-Beveland)</td>\n",
       "      <td>5</td>\n",
       "      <td>POINT (59046.48663220879 387610.4511505238)</td>\n",
       "      <td>59046.486632</td>\n",
       "      <td>387610.451151</td>\n",
       "    </tr>\n",
       "  </tbody>\n",
       "</table>\n",
       "</div>"
      ],
      "text/plain": [
       "                                          omschrijvi  id  \\\n",
       "naam                                                       \n",
       "Vianen          A2 brug bij Vianen (Jan Blankenbrug)   1   \n",
       "Weurt      Brug over het buitenhoofd van sluis Weurt   2   \n",
       "Venlo                            Stadsbrug bij Venlo   3   \n",
       "Postbrug        Postbrug (Kanaal door Zuid-Beveland)   4   \n",
       "Vlake     Vlakespoorbrug (Kanaal door Zuid-Beveland)   5   \n",
       "\n",
       "                                             geometry              x  \\\n",
       "naam                                                                   \n",
       "Vianen    POINT (133817.0127042203 445534.2400786425)  133817.012704   \n",
       "Weurt     POINT (184997.3033994976 429693.8515127322)  184997.303399   \n",
       "Venlo     POINT (208905.2065446438 375782.5111840004)  208905.206545   \n",
       "Postbrug  POINT (58985.60639347549 390727.3105943904)   58985.606393   \n",
       "Vlake     POINT (59046.48663220879 387610.4511505238)   59046.486632   \n",
       "\n",
       "                      y  \n",
       "naam                     \n",
       "Vianen    445534.240079  \n",
       "Weurt     429693.851513  \n",
       "Venlo     375782.511184  \n",
       "Postbrug  390727.310594  \n",
       "Vlake     387610.451151  "
      ]
     },
     "metadata": {},
     "output_type": "display_data"
    },
    {
     "data": {
      "text/html": [
       "<div>\n",
       "<style>\n",
       "    .dataframe thead tr:only-child th {\n",
       "        text-align: right;\n",
       "    }\n",
       "\n",
       "    .dataframe thead th {\n",
       "        text-align: left;\n",
       "    }\n",
       "\n",
       "    .dataframe tbody tr th {\n",
       "        vertical-align: top;\n",
       "    }\n",
       "</style>\n",
       "<table border=\"1\" class=\"dataframe\">\n",
       "  <thead>\n",
       "    <tr style=\"text-align: right;\">\n",
       "      <th></th>\n",
       "      <th>T=2</th>\n",
       "      <th>T=10</th>\n",
       "      <th>x</th>\n",
       "      <th>y</th>\n",
       "      <th>bron</th>\n",
       "      <th>geometry</th>\n",
       "    </tr>\n",
       "    <tr>\n",
       "      <th>naam</th>\n",
       "      <th></th>\n",
       "      <th></th>\n",
       "      <th></th>\n",
       "      <th></th>\n",
       "      <th></th>\n",
       "      <th></th>\n",
       "    </tr>\n",
       "  </thead>\n",
       "  <tbody>\n",
       "    <tr>\n",
       "      <th>Vianen</th>\n",
       "      <td>3.762582</td>\n",
       "      <td>4.750552</td>\n",
       "      <td>137480.000000</td>\n",
       "      <td>445020.000000</td>\n",
       "      <td>hw_RMM</td>\n",
       "      <td>POINT (137480 445020)</td>\n",
       "    </tr>\n",
       "    <tr>\n",
       "      <th>Weurt</th>\n",
       "      <td>11.520000</td>\n",
       "      <td>0.000000</td>\n",
       "      <td>184997.303399</td>\n",
       "      <td>429693.851513</td>\n",
       "      <td>Betrekkingslijnen Rijn</td>\n",
       "      <td>POINT (184997.3033994976 429693.8515127322)</td>\n",
       "    </tr>\n",
       "    <tr>\n",
       "      <th>Venlo</th>\n",
       "      <td>15.580000</td>\n",
       "      <td>17.050000</td>\n",
       "      <td>208775.630000</td>\n",
       "      <td>375616.290000</td>\n",
       "      <td>Betrekkingslijnen Maas</td>\n",
       "      <td>POINT (208775.63 375616.29)</td>\n",
       "    </tr>\n",
       "    <tr>\n",
       "      <th>Postbrug</th>\n",
       "      <td>3.050000</td>\n",
       "      <td>0.000000</td>\n",
       "      <td>58985.606393</td>\n",
       "      <td>390727.310594</td>\n",
       "      <td>KWG2011</td>\n",
       "      <td>POINT (58985.60639347549 390727.3105943904)</td>\n",
       "    </tr>\n",
       "    <tr>\n",
       "      <th>Vlake</th>\n",
       "      <td>3.050000</td>\n",
       "      <td>0.000000</td>\n",
       "      <td>59046.486632</td>\n",
       "      <td>387610.451151</td>\n",
       "      <td>KWG2011</td>\n",
       "      <td>POINT (59046.48663220879 387610.4511505238)</td>\n",
       "    </tr>\n",
       "  </tbody>\n",
       "</table>\n",
       "</div>"
      ],
      "text/plain": [
       "                T=2       T=10              x              y  \\\n",
       "naam                                                           \n",
       "Vianen     3.762582   4.750552  137480.000000  445020.000000   \n",
       "Weurt     11.520000   0.000000  184997.303399  429693.851513   \n",
       "Venlo     15.580000  17.050000  208775.630000  375616.290000   \n",
       "Postbrug   3.050000   0.000000   58985.606393  390727.310594   \n",
       "Vlake      3.050000   0.000000   59046.486632  387610.451151   \n",
       "\n",
       "                            bron                                     geometry  \n",
       "naam                                                                           \n",
       "Vianen                    hw_RMM                        POINT (137480 445020)  \n",
       "Weurt     Betrekkingslijnen Rijn  POINT (184997.3033994976 429693.8515127322)  \n",
       "Venlo     Betrekkingslijnen Maas                  POINT (208775.63 375616.29)  \n",
       "Postbrug                 KWG2011  POINT (58985.60639347549 390727.3105943904)  \n",
       "Vlake                    KWG2011  POINT (59046.48663220879 387610.4511505238)  "
      ]
     },
     "metadata": {},
     "output_type": "display_data"
    }
   ],
   "source": [
    "# Inladen geometrien\n",
    "bruglocaties = gpd.read_file(bruglocaties_file).set_index('naam')\n",
    "meetlocaties = gpd.read_file(meetlocatie_file).set_index('naam')\n",
    "\n",
    "bruglocaties['x'] = [geo.x for geo in bruglocaties.geometry]\n",
    "bruglocaties['y'] = [geo.y for geo in bruglocaties.geometry]\n",
    "\n",
    "display(bruglocaties.head())\n",
    "display(meetlocaties.head())"
   ]
  },
  {
   "cell_type": "markdown",
   "metadata": {},
   "source": [
    "#### Verzamel locaties per database"
   ]
  },
  {
   "cell_type": "code",
   "execution_count": 5,
   "metadata": {
    "collapsed": true
   },
   "outputs": [],
   "source": [
    "# Verzamel alle databases en watersystemen\n",
    "databases = []\n",
    "watersystemen = []\n",
    "\n",
    "for brug, brugsettings in settings.items():\n",
    "    for scenario, database in brugsettings['database']['grenspeil'].items():\n",
    "        databases.append(database)\n",
    "    \n",
    "    if 'zeespiegelstijging' in brugsettings['database'].keys():\n",
    "        databases.append(brugsettings['database']['zeespiegelstijging'])\n",
    "        \n",
    "    watersystemen.append(brugsettings['watersysteem'])\n",
    "\n",
    "databases = set(databases)\n",
    "watersystemen = set(watersystemen)\n",
    "        \n",
    "# Laad verschillende locatie-overzichten in\n",
    "locaties = {}\n",
    "for database in databases:\n",
    "    # Bepaal locaties bij database. Aangenomen is dat de gernspeillocaties in geval van verschillende\n",
    "    # databases bij de verschillende klimaatscenario's gelijk zijn.\n",
    "    locatiefile = os.path.join(\n",
    "        '..', 'GIS', 'Databaselocaties', os.path.splitext(database)[0]+'.shp')\n",
    "\n",
    "    # Laad locaties\n",
    "    locaties[database] = gpd.read_file(locatiefile)\n",
    "    locaties[database].rename(columns={'omschrijvi': 'Name', 'XCoordinat': 'x', 'YCoordinat': 'y'}, inplace=True)\n",
    "    locaties[database].set_index('Name', inplace=True)\n",
    "\n",
    "# Laad verschillende aslijnen in\n",
    "aslijnen = {}\n",
    "for watersysteem in watersystemen:\n",
    "    if 'ijsselmeer' not in watersysteem.lower():\n",
    "        # Laas aslijnen\n",
    "        aslijnen[watersysteem] = gpd.read_file('../GIS/Rivieras/{}.shp'.format(watersysteem[3:].lower()))\n",
    "    else:\n",
    "        aslijnen[watersysteem] = []\n",
    "        \n",
    "    "
   ]
  },
  {
   "cell_type": "markdown",
   "metadata": {},
   "source": [
    "## Plot overzicht"
   ]
  },
  {
   "cell_type": "code",
   "execution_count": 6,
   "metadata": {},
   "outputs": [
    {
     "data": {
      "text/plain": [
       "<matplotlib.legend.Legend at 0x14f83e48>"
      ]
     },
     "execution_count": 6,
     "metadata": {},
     "output_type": "execute_result"
    },
    {
     "data": {
      "image/png": "[encoded data removed]",
      "text/plain": [
       "<matplotlib.figure.Figure at 0x14b10748>"
      ]
     },
     "metadata": {},
     "output_type": "display_data"
    }
   ],
   "source": [
    "fig, ax = plt.subplots(figsize=(10, 10))\n",
    "ax.plot(bruglocaties.x, bruglocaties.y, ls='', marker='o', ms=10, color='0.5', label='Bruggen', mfc='none', mew=2)\n",
    "ax.set_aspect(1)\n",
    "background.add(ax)\n",
    "ax.set_xlim(ax.get_xlim())\n",
    "ax.set_ylim(ax.get_ylim())\n",
    "\n",
    "for i, (bron, group) in enumerate(meetlocaties.groupby('bron')):\n",
    "    ax.plot(group.x, group.y, marker='x', ls='', color='C{}'.format(i+1), mew=2, zorder=12, label=bron)\n",
    "    \n",
    "ax.legend()"
   ]
  },
  {
   "cell_type": "markdown",
   "metadata": {},
   "source": [
    "## Hydra-berekeningen"
   ]
  },
  {
   "cell_type": "code",
   "execution_count": 7,
   "metadata": {
    "scrolled": false
   },
   "outputs": [
    {
     "name": "stderr",
     "output_type": "stream",
     "text": [
      "Widget Javascript not detected.  It may not be installed or enabled properly.\n"
     ]
    },
    {
     "data": {
      "application/vnd.jupyter.widget-view+json": {
       "model_id": "7cfead13841e4d32969a45898621374b"
      }
     },
     "metadata": {},
     "output_type": "display_data"
    },
    {
     "name": "stdout",
     "output_type": "stream",
     "text": [
      "\n"
     ]
    }
   ],
   "source": [
    "# Hydra-berekeningen\n",
    "rekeninstellingen = []\n",
    "\n",
    "# Lees reeds gedane berekeninge uit db, en sla deze over\n",
    "overzichtsdb = '../Werkmap/overzichtsdatabase.sqlite'\n",
    "if os.path.exists(overzichtsdb):\n",
    "    conn = sqlite3.connect(overzichtsdb)\n",
    "    reeds_gedaan = np.hstack(conn.execute('SELECT naam FROM berekening;').fetchall())\n",
    "    conn.close()\n",
    "else:\n",
    "    reeds_gedaan = []\n",
    "\n",
    "for brug in bruglocaties.index:\n",
    "    \n",
    "    # Voor alle scenario's\n",
    "    for scenario in ['2018', '2100G']:\n",
    "        for locatie in set(settings[brug]['locaties']['brug'] + settings[brug]['locaties']['meetlocatie']):\n",
    "            \n",
    "            # Voor 2100G hoeven alleen waterstanden bij de brug bepaald te worden\n",
    "            if ((locatie in settings[brug]['locaties']['meetlocatie']) and\n",
    "                (locatie not in settings[brug]['locaties']['brug']) and\n",
    "                (scenario == '2100G')):\n",
    "                continue\n",
    "            \n",
    "            # Haal x en y coordinaat van locatie op\n",
    "            database = settings[brug]['database']['grenspeil'][scenario]\n",
    "            locinfo = locaties[database].loc[locatie]\n",
    "            \n",
    "            # Sla rekeninstellingen op\n",
    "            bernaam = 'ws_{}_{}'.format(scenario, locatie)\n",
    "            if bernaam not in reeds_gedaan:\n",
    "                rekeninstellingen.append((brug, locatie, locinfo.x, locinfo.y, database, scenario, settings[brug]['watersysteem'], bernaam))\n",
    "    \n",
    "        # Als er apart berekeningen gemaakt moeten worden voor de zeespiegelstijging:\n",
    "        if 'zeespiegelstijging' in settings[brug]['database']:\n",
    "            \n",
    "            for locatie in set(settings[brug]['locaties']['zeespiegelstijging']):\n",
    "\n",
    "                # Haal x en y coordinaat van locatie op\n",
    "                database = settings[brug]['database']['zeespiegelstijging']\n",
    "                locinfo = locaties[database].loc[locatie]\n",
    "\n",
    "                # Sla rekeninstellingen op\n",
    "                bernaam = 'zss_{}_{}'.format(scenario, locatie)\n",
    "                if bernaam not in reeds_gedaan:\n",
    "                    rekeninstellingen.append((brug, locatie, locinfo.x, locinfo.y, database, scenario, '03_benedenrijn', bernaam))\n",
    "            \n",
    "# Voer hydra-berekeningen uit\n",
    "for i in tnrange(len(rekeninstellingen), desc='Hydra-NL'):\n",
    "    hulpfuncties.bereken_waterstand(settings, *rekeninstellingen[i])\n"
   ]
  },
  {
   "cell_type": "code",
   "execution_count": 8,
   "metadata": {},
   "outputs": [
    {
     "name": "stderr",
     "output_type": "stream",
     "text": [
      "C:\\Anaconda3\\lib\\site-packages\\ipykernel_launcher.py:14: RuntimeWarning: divide by zero encountered in log\n",
      "  \n"
     ]
    }
   ],
   "source": [
    "# Lees Hydra-resultaat uit overzichtsdatabase\n",
    "conn = sqlite3.connect(os.path.join('..', 'Werkmap', 'overzichtsdatabase.sqlite'))\n",
    "frequentielijnen = pd.read_sql(\"\"\"\n",
    "    SELECT B.naam, F.frequentie, F.waarde\n",
    "    FROM frequentielijn F\n",
    "    INNER JOIN berekening B\n",
    "    ON F.berekeningid = B.id;\n",
    "\"\"\", con=conn, index_col=['naam'])\n",
    "conn.close()\n",
    "\n",
    "hydraresultaat = {}\n",
    "for bernaam, group in frequentielijnen.groupby(frequentielijnen.index):\n",
    "    hydraresultaat[bernaam] = {}\n",
    "    ws = np.interp(np.log([0.5, 0.1]), np.log(group['frequentie'][::-1]), group['waarde'][::-1])\n",
    "    hydraresultaat[bernaam]['T=2'] = ws[0]\n",
    "    hydraresultaat[bernaam]['T=10'] = ws[1]\n"
   ]
  },
  {
   "cell_type": "markdown",
   "metadata": {},
   "source": [
    "## Verwerk alles in tabellen"
   ]
  },
  {
   "cell_type": "markdown",
   "metadata": {},
   "source": [
    "Leidt interpolatieafstanden af voor de locaties"
   ]
  },
  {
   "cell_type": "code",
   "execution_count": 9,
   "metadata": {
    "collapsed": true,
    "scrolled": true
   },
   "outputs": [],
   "source": [
    "\n",
    "tabellen = {}\n",
    "Ts = ['T=2', 'T=10']\n",
    "scenarios = ['2018', '2100G']\n",
    "\n",
    "locatiecol = ('Locaties', 'Naam', '')\n",
    "interpcol = ('Locaties', 'Interpf.', '')\n",
    "\n",
    "\n",
    "for brug in bruglocaties.index:\n",
    "    \n",
    "    watersysteem = settings[brug]['watersysteem']\n",
    "    database = settings[brug]['database']['grenspeil']['2018']\n",
    "    \n",
    "    # Initieer tabel\n",
    "    tabel = hulpfuncties.initieer_tabel(brug, settings)\n",
    "    spindices = tabel.index.tolist()\n",
    "    steunpunten = {\n",
    "        'Brug': [item for item in spindices if item.startswith('Brug SP')],\n",
    "        'Meetlocatie': [item for item in spindices if item.startswith('Meetloc SP')],\n",
    "        'Brug (ZSS)': [item for item in spindices if item.startswith('ZSS SP')],\n",
    "    }\n",
    "    if not steunpunten['Brug (ZSS)']:\n",
    "        del steunpunten['Brug (ZSS)']\n",
    "    \n",
    "    # Leidt interpolatieafstanden af\n",
    "    int_afstanden = hulpfuncties.bepaal_interpolatieafstand(\n",
    "        brug, settings, aslijnen[watersysteem], locaties, meetlocaties, bruglocaties)\n",
    "    \n",
    "    # Vul interpolatieafstanden in\n",
    "    for steunpunt, int_value in int_afstanden.items():\n",
    "        tabel.at[steunpunt, interpcol] = int_value\n",
    "    \n",
    "    # Vul grenspeilen in\n",
    "    tabel.loc['Meetlocatie', ('Grenspeil', '2018', 'T=2')] = meetlocaties.loc[brug, 'T=2']\n",
    "    if meetlocaties.loc[brug, 'T=10'] > 0.0:\n",
    "        tabel.loc['Meetlocatie', ('Grenspeil', '2018', 'T=10')] = meetlocaties.loc[brug, 'T=10']\n",
    "    \n",
    "    # Vul hydra-resultaten uit overzichtsdatabase uit\n",
    "    for T in Ts:\n",
    "        for scenario in scenarios:\n",
    "            for steunpunt in steunpunten['Brug']:\n",
    "                locnaam = tabel.loc[steunpunt, locatiecol]\n",
    "                bernaam = 'ws_{}_{}'.format(scenario, locnaam)\n",
    "                tabel.at[steunpunt, ('Hydra-NL', scenario, T)] = hydraresultaat[bernaam][T]\n",
    "        \n",
    "            if 'Brug (ZSS)' in steunpunten.keys():\n",
    "                for steunpunt in steunpunten['Brug (ZSS)']:\n",
    "                    locnaam = tabel.loc[steunpunt, locatiecol]\n",
    "                    bernaam = 'zss_{}_{}'.format(scenario, locnaam)\n",
    "                    tabel.at[steunpunt, ('Hydra-NL', scenario, T)] = hydraresultaat[bernaam][T]\n",
    "        \n",
    "        scenario = '2018'\n",
    "        for steunpunt in steunpunten['Meetlocatie']:\n",
    "            locnaam = tabel.loc[steunpunt, locatiecol]\n",
    "            bernaam = 'ws_{}_{}'.format(scenario, locnaam)\n",
    "            tabel.at[steunpunt, ('Hydra-NL', scenario, T)] = hydraresultaat[bernaam][T]\n",
    "        \n",
    "        \n",
    "    # Interpoleer de Hydra-NL resultaten bij de brug en de grenspeilmeting\n",
    "    for steunpunttype, sps in steunpunten.items():\n",
    "        for scenario in scenarios:\n",
    "            for T in Ts:\n",
    "                tabel.loc[steunpunttype, ('Hydra-NL', scenario, T)] = (\n",
    "                    tabel.loc[sps, ('Hydra-NL', scenario, T)] * tabel.loc[sps, interpcol]).sum()\n",
    "\n",
    "    # Bereken het grenspeil bij de meetlocatie voor T=10, in het geval deze neit gegeven is\n",
    "    if meetlocaties.loc[brug, 'T=10'] == 0.0:\n",
    "        tabel.loc['Meetlocatie', ('Grenspeil', '2018', 'T=10')] = (\n",
    "            tabel.loc['Meetlocatie', ('Grenspeil', '2018', 'T=2')] +\n",
    "            tabel.loc['Meetlocatie', ('Hydra-NL', '2018', 'T=10')] -\n",
    "            tabel.loc['Meetlocatie', ('Hydra-NL', '2018', 'T=2')]\n",
    "        )\n",
    "    \n",
    "    # bereken waterstandsverschil\n",
    "    ws_verschil = {\n",
    "        'ruimtelijk, T=10': tabel.loc['Brug', ('Hydra-NL', '2018', 'T=10')] - tabel.loc['Meetlocatie', ('Hydra-NL', '2018', 'T=10')],\n",
    "        'zichtjaar, T=10': tabel.loc['Brug', ('Hydra-NL', '2100G', 'T=10')] - tabel.loc['Brug', ('Hydra-NL', '2018', 'T=10')],\n",
    "        'zichtjaar, T=2': tabel.loc['Brug', ('Hydra-NL', '2100G', 'T=2')] - tabel.loc['Brug', ('Hydra-NL', '2018', 'T=2')],\n",
    "    }\n",
    "   \n",
    "    # bereken de grenspeilen bij de brug voor T=2\n",
    "    for T in Ts:\n",
    "        tabel.loc['Brug', ('Grenspeil', '2018', T)] = tabel.loc['Meetlocatie', ('Grenspeil', '2018', T)] + ws_verschil['ruimtelijk, T=10']\n",
    "\n",
    "    # Bereken de grenspeilen voor 2100G\n",
    "    for T in Ts:\n",
    "        if 'Brug (ZSS)' in tabel.index:\n",
    "            zss =  tabel.loc['Brug (ZSS)', ('Hydra-NL', '2100G', T)] - tabel.loc['Brug (ZSS)', ('Hydra-NL', '2018', T)]\n",
    "        else:\n",
    "            zss = 0.0\n",
    "        tabel.loc['Brug', ('Grenspeil', '2100G', T)] = tabel.loc['Brug', ('Grenspeil', '2018', T)] + ws_verschil['zichtjaar, {}'.format(T)] + zss\n",
    "\n",
    "        \n",
    "    tabellen[brug] = tabel\n",
    "    \n",
    "#     Sla op in excel\n",
    "#     tabel.round(3).to_excel(writer, sheet_name=brug)\n",
    "    \n",
    "#     htmltables.write(tabel.to_html(na_rep='', float_format=lambda x: '%6.3f' % x))\n",
    "#     htmltables.write('<br/>')\n",
    "\n",
    "# writer.close()\n"
   ]
  },
  {
   "cell_type": "markdown",
   "metadata": {},
   "source": [
    "#### Genereer een samenvattende tabel"
   ]
  },
  {
   "cell_type": "code",
   "execution_count": 10,
   "metadata": {},
   "outputs": [
    {
     "data": {
      "text/html": [
       "<div>\n",
       "<style>\n",
       "    .dataframe thead tr:only-child th {\n",
       "        text-align: right;\n",
       "    }\n",
       "\n",
       "    .dataframe thead th {\n",
       "        text-align: left;\n",
       "    }\n",
       "\n",
       "    .dataframe tbody tr th {\n",
       "        vertical-align: top;\n",
       "    }\n",
       "</style>\n",
       "<table border=\"1\" class=\"dataframe\">\n",
       "  <thead>\n",
       "    <tr>\n",
       "      <th></th>\n",
       "      <th colspan=\"2\" halign=\"left\">Locaties</th>\n",
       "      <th colspan=\"4\" halign=\"left\">Hydra-NL</th>\n",
       "      <th colspan=\"4\" halign=\"left\">Grenspeil</th>\n",
       "    </tr>\n",
       "    <tr>\n",
       "      <th></th>\n",
       "      <th>Naam</th>\n",
       "      <th>Interpf.</th>\n",
       "      <th colspan=\"2\" halign=\"left\">2018</th>\n",
       "      <th colspan=\"2\" halign=\"left\">2100G</th>\n",
       "      <th colspan=\"2\" halign=\"left\">2018</th>\n",
       "      <th colspan=\"2\" halign=\"left\">2100G</th>\n",
       "    </tr>\n",
       "    <tr>\n",
       "      <th></th>\n",
       "      <th></th>\n",
       "      <th></th>\n",
       "      <th>T=2</th>\n",
       "      <th>T=10</th>\n",
       "      <th>T=2</th>\n",
       "      <th>T=10</th>\n",
       "      <th>T=2</th>\n",
       "      <th>T=10</th>\n",
       "      <th>T=2</th>\n",
       "      <th>T=10</th>\n",
       "    </tr>\n",
       "  </thead>\n",
       "  <tbody>\n",
       "    <tr>\n",
       "      <th>Brug</th>\n",
       "      <td>NaN</td>\n",
       "      <td>NaN</td>\n",
       "      <td>1.65512</td>\n",
       "      <td>2.10509</td>\n",
       "      <td>1.89578</td>\n",
       "      <td>2.39487</td>\n",
       "      <td>1.87388</td>\n",
       "      <td>2.1807</td>\n",
       "      <td>2.11454</td>\n",
       "      <td>2.47049</td>\n",
       "    </tr>\n",
       "    <tr>\n",
       "      <th>Brug SP1</th>\n",
       "      <td>247.76_BM</td>\n",
       "      <td>0.318</td>\n",
       "      <td>1.65512</td>\n",
       "      <td>2.10509</td>\n",
       "      <td>1.89578</td>\n",
       "      <td>2.39464</td>\n",
       "      <td>NaN</td>\n",
       "      <td>NaN</td>\n",
       "      <td>NaN</td>\n",
       "      <td>NaN</td>\n",
       "    </tr>\n",
       "    <tr>\n",
       "      <th>Brug SP2</th>\n",
       "      <td>247.74_BM</td>\n",
       "      <td>0.682</td>\n",
       "      <td>1.65512</td>\n",
       "      <td>2.10509</td>\n",
       "      <td>1.89578</td>\n",
       "      <td>2.39498</td>\n",
       "      <td>NaN</td>\n",
       "      <td>NaN</td>\n",
       "      <td>NaN</td>\n",
       "      <td>NaN</td>\n",
       "    </tr>\n",
       "    <tr>\n",
       "      <th>Meetlocatie</th>\n",
       "      <td>NaN</td>\n",
       "      <td>NaN</td>\n",
       "      <td>1.66565</td>\n",
       "      <td>2.12747</td>\n",
       "      <td>NaN</td>\n",
       "      <td>NaN</td>\n",
       "      <td>1.89626</td>\n",
       "      <td>2.20308</td>\n",
       "      <td>NaN</td>\n",
       "      <td>NaN</td>\n",
       "    </tr>\n",
       "    <tr>\n",
       "      <th>Meetloc SP1</th>\n",
       "      <td>247.50_BM</td>\n",
       "      <td>0.084</td>\n",
       "      <td>1.66565</td>\n",
       "      <td>2.134</td>\n",
       "      <td>NaN</td>\n",
       "      <td>NaN</td>\n",
       "      <td>NaN</td>\n",
       "      <td>NaN</td>\n",
       "      <td>NaN</td>\n",
       "      <td>NaN</td>\n",
       "    </tr>\n",
       "    <tr>\n",
       "      <th>Meetloc SP2</th>\n",
       "      <td>247.52_BM</td>\n",
       "      <td>0.916</td>\n",
       "      <td>1.66565</td>\n",
       "      <td>2.12687</td>\n",
       "      <td>NaN</td>\n",
       "      <td>NaN</td>\n",
       "      <td>NaN</td>\n",
       "      <td>NaN</td>\n",
       "      <td>NaN</td>\n",
       "      <td>NaN</td>\n",
       "    </tr>\n",
       "  </tbody>\n",
       "</table>\n",
       "</div>"
      ],
      "text/plain": [
       "              Locaties          Hydra-NL                            Grenspeil  \\\n",
       "                  Naam Interpf.     2018             2100G               2018   \n",
       "                                     T=2     T=10      T=2     T=10       T=2   \n",
       "Brug               NaN      NaN  1.65512  2.10509  1.89578  2.39487   1.87388   \n",
       "Brug SP1     247.76_BM    0.318  1.65512  2.10509  1.89578  2.39464       NaN   \n",
       "Brug SP2     247.74_BM    0.682  1.65512  2.10509  1.89578  2.39498       NaN   \n",
       "Meetlocatie        NaN      NaN  1.66565  2.12747      NaN      NaN   1.89626   \n",
       "Meetloc SP1  247.50_BM    0.084  1.66565    2.134      NaN      NaN       NaN   \n",
       "Meetloc SP2  247.52_BM    0.916  1.66565  2.12687      NaN      NaN       NaN   \n",
       "\n",
       "                                        \n",
       "                        2100G           \n",
       "                T=10      T=2     T=10  \n",
       "Brug          2.1807  2.11454  2.47049  \n",
       "Brug SP1         NaN      NaN      NaN  \n",
       "Brug SP2         NaN      NaN      NaN  \n",
       "Meetlocatie  2.20308      NaN      NaN  \n",
       "Meetloc SP1      NaN      NaN      NaN  \n",
       "Meetloc SP2      NaN      NaN      NaN  "
      ]
     },
     "execution_count": 10,
     "metadata": {},
     "output_type": "execute_result"
    }
   ],
   "source": [
    "tabel"
   ]
  },
  {
   "cell_type": "code",
   "execution_count": 11,
   "metadata": {
    "collapsed": true
   },
   "outputs": [],
   "source": [
    "grenspeilentabel = pd.DataFrame(\n",
    "    index=pd.Index(data=bruglocaties.index.tolist(), name=None),\n",
    "    columns=pd.MultiIndex.from_product([('2018', '2100G'), ('T=2', 'T=10')])\n",
    ")\n",
    "\n",
    "for brug, tabel in tabellen.items():\n",
    "    grenspeilentabel.loc[brug] = tabel.loc['Brug', 'Grenspeil']\n",
    "    \n",
    "grenspeilentabel.to_excel('../Data/grenspeilentabel_samenvattend.xlsx')"
   ]
  },
  {
   "cell_type": "markdown",
   "metadata": {},
   "source": [
    "#### Tabellen met rekeninstellingen"
   ]
  },
  {
   "cell_type": "code",
   "execution_count": 12,
   "metadata": {
    "collapsed": true
   },
   "outputs": [],
   "source": [
    "# Genereer lege lijsten\n",
    "indices = []\n",
    "vals = []\n",
    "\n",
    "# Definieer functie om elementen uit tabellen de selecteren\n",
    "def get_chained_index_and_val(d, index=[]):\n",
    "    for key, val in d.items():\n",
    "        if isinstance(val, dict):\n",
    "            get_chained_index_and_val(val, index=(index + [key]))\n",
    "        else:\n",
    "            indices.append(index + [key])\n",
    "            vals.append(val)\n",
    "    return indices, vals\n",
    "\n",
    "# Pas functie toe\n",
    "get_chained_index_and_val(settings)\n",
    "\n",
    "# Verleng indices\n",
    "maxlen = max(map(len, indices))\n",
    "indices = [ind + [''] * (maxlen - len(ind)) for ind in indices]\n",
    "\n",
    "# Vervang lijsten door strings\n",
    "vals = [val if not isinstance(val, list) else ', '.join(val) for val in vals]\n",
    "vals = [val if not isinstance(val, float) else '{:.2f} m'.format(val) for val in vals]"
   ]
  },
  {
   "cell_type": "code",
   "execution_count": 13,
   "metadata": {
    "collapsed": true
   },
   "outputs": [],
   "source": [
    "fmt = \"\"\"\n",
    "<h6>{brug}</h6>\n",
    "Deze paragraaf beschrijft de rekeninstellingen en resultaten voor {brug}\n",
    "<br/>\n",
    "{opmerkingen}\n",
    "<br/>\n",
    "<b>Rekeninstellingen</b>\n",
    "<br/>\n",
    "{rekeninstellingen}\n",
    "<br/>\n",
    "<b>Resultaten</b>\n",
    "<br/>\n",
    "{resultaattabel}\n",
    "<br/>\n",
    "\"\"\"\n",
    "\n",
    "\n",
    "writer = pd.ExcelWriter('../Data/grenspeiltabellen_auto.xlsx')\n",
    "htmltables = open('test.html', 'w')\n",
    "\n",
    "for brug, tabel in tabellen.items():\n",
    "    \n",
    "    # Maak tabel met rekeninstellingen\n",
    "    brugind = [ind[1:] for ind in indices if ind[0] == brug]\n",
    "    brugvals = [val for ind, val in zip(indices, vals) if ind[0] == brug]\n",
    "    rekeninstellingentabel = pd.DataFrame(\n",
    "        data=brugvals,\n",
    "        index=pd.MultiIndex.from_tuples(brugind),\n",
    "        columns=['Instelling']\n",
    "    )\n",
    "    \n",
    "    # Stel opmerkingen samen\n",
    "    opmerkingen = ''\n",
    "    if brug in ['Vianen', 'Keizersveer']:\n",
    "        opmerkingen += '<li>De ontwerpwaterstanden voor {brug} zijn berekend vanuit de bovenrivieren, terwijl de zeespiegelstijging is berekend vanuit de benedenrivieren.</li>'.format(brug=brug)\n",
    "    if meetlocaties.loc[brug, 'T=10'] == 0.0:\n",
    "        opmerkingen += '<li>Voor {brug} is er geen grenspeilmeting bij T = 10 jaar beschikbaar.</li>'.format(brug=brug)\n",
    "    if opmerkingen:\n",
    "        opmerkingen = '<p>Opmerkingen:<ul>{}</ul></p>'.format(opmerkingen)\n",
    "    \n",
    "    # Schrijf naar document\n",
    "    htmltables.write(fmt.format(\n",
    "        brug=brug,\n",
    "        opmerkingen=opmerkingen,\n",
    "        rekeninstellingen=rekeninstellingentabel.to_html(na_rep='', float_format=lambda x: '%6.3f' % x),\n",
    "        resultaattabel=tabel.to_html(na_rep='', float_format=lambda x: '%6.3f' % x),\n",
    "    ))\n",
    "    \n",
    "    tabel.round(3).to_excel(writer, sheet_name=brug)\n",
    "    \n",
    "writer.close()\n",
    "htmltables.close()\n"
   ]
  },
  {
   "cell_type": "code",
   "execution_count": 14,
   "metadata": {},
   "outputs": [
    {
     "name": "stderr",
     "output_type": "stream",
     "text": [
      "C:\\Anaconda3\\lib\\site-packages\\matplotlib\\axes\\_axes.py:545: UserWarning: No labelled objects found. Use label='...' kwarg on individual plots.\n",
      "  warnings.warn(\"No labelled objects found. \"\n"
     ]
    },
    {
     "ename": "ValueError",
     "evalue": "posx and posy should be finite values",
     "output_type": "error",
     "traceback": [
      "\u001b[1;31m---------------------------------------------------------------------------\u001b[0m",
      "\u001b[1;31mValueError\u001b[0m                                Traceback (most recent call last)",
      "\u001b[1;32mC:\\Anaconda3\\lib\\site-packages\\IPython\\core\\formatters.py\u001b[0m in \u001b[0;36m__call__\u001b[1;34m(self, obj)\u001b[0m\n\u001b[0;32m    305\u001b[0m                 \u001b[1;32mpass\u001b[0m\u001b[1;33m\u001b[0m\u001b[0m\n\u001b[0;32m    306\u001b[0m             \u001b[1;32melse\u001b[0m\u001b[1;33m:\u001b[0m\u001b[1;33m\u001b[0m\u001b[0m\n\u001b[1;32m--> 307\u001b[1;33m                 \u001b[1;32mreturn\u001b[0m \u001b[0mprinter\u001b[0m\u001b[1;33m(\u001b[0m\u001b[0mobj\u001b[0m\u001b[1;33m)\u001b[0m\u001b[1;33m\u001b[0m\u001b[0m\n\u001b[0m\u001b[0;32m    308\u001b[0m             \u001b[1;31m# Finally look for special method names\u001b[0m\u001b[1;33m\u001b[0m\u001b[1;33m\u001b[0m\u001b[0m\n\u001b[0;32m    309\u001b[0m             \u001b[0mmethod\u001b[0m \u001b[1;33m=\u001b[0m \u001b[0mget_real_method\u001b[0m\u001b[1;33m(\u001b[0m\u001b[0mobj\u001b[0m\u001b[1;33m,\u001b[0m \u001b[0mself\u001b[0m\u001b[1;33m.\u001b[0m\u001b[0mprint_method\u001b[0m\u001b[1;33m)\u001b[0m\u001b[1;33m\u001b[0m\u001b[0m\n",
      "\u001b[1;32mC:\\Anaconda3\\lib\\site-packages\\IPython\\core\\pylabtools.py\u001b[0m in \u001b[0;36m<lambda>\u001b[1;34m(fig)\u001b[0m\n\u001b[0;32m    238\u001b[0m \u001b[1;33m\u001b[0m\u001b[0m\n\u001b[0;32m    239\u001b[0m     \u001b[1;32mif\u001b[0m \u001b[1;34m'png'\u001b[0m \u001b[1;32min\u001b[0m \u001b[0mformats\u001b[0m\u001b[1;33m:\u001b[0m\u001b[1;33m\u001b[0m\u001b[0m\n\u001b[1;32m--> 240\u001b[1;33m         \u001b[0mpng_formatter\u001b[0m\u001b[1;33m.\u001b[0m\u001b[0mfor_type\u001b[0m\u001b[1;33m(\u001b[0m\u001b[0mFigure\u001b[0m\u001b[1;33m,\u001b[0m \u001b[1;32mlambda\u001b[0m \u001b[0mfig\u001b[0m\u001b[1;33m:\u001b[0m \u001b[0mprint_figure\u001b[0m\u001b[1;33m(\u001b[0m\u001b[0mfig\u001b[0m\u001b[1;33m,\u001b[0m \u001b[1;34m'png'\u001b[0m\u001b[1;33m,\u001b[0m \u001b[1;33m**\u001b[0m\u001b[0mkwargs\u001b[0m\u001b[1;33m)\u001b[0m\u001b[1;33m)\u001b[0m\u001b[1;33m\u001b[0m\u001b[0m\n\u001b[0m\u001b[0;32m    241\u001b[0m     \u001b[1;32mif\u001b[0m \u001b[1;34m'retina'\u001b[0m \u001b[1;32min\u001b[0m \u001b[0mformats\u001b[0m \u001b[1;32mor\u001b[0m \u001b[1;34m'png2x'\u001b[0m \u001b[1;32min\u001b[0m \u001b[0mformats\u001b[0m\u001b[1;33m:\u001b[0m\u001b[1;33m\u001b[0m\u001b[0m\n\u001b[0;32m    242\u001b[0m         \u001b[0mpng_formatter\u001b[0m\u001b[1;33m.\u001b[0m\u001b[0mfor_type\u001b[0m\u001b[1;33m(\u001b[0m\u001b[0mFigure\u001b[0m\u001b[1;33m,\u001b[0m \u001b[1;32mlambda\u001b[0m \u001b[0mfig\u001b[0m\u001b[1;33m:\u001b[0m \u001b[0mretina_figure\u001b[0m\u001b[1;33m(\u001b[0m\u001b[0mfig\u001b[0m\u001b[1;33m,\u001b[0m \u001b[1;33m**\u001b[0m\u001b[0mkwargs\u001b[0m\u001b[1;33m)\u001b[0m\u001b[1;33m)\u001b[0m\u001b[1;33m\u001b[0m\u001b[0m\n",
      "\u001b[1;32mC:\\Anaconda3\\lib\\site-packages\\IPython\\core\\pylabtools.py\u001b[0m in \u001b[0;36mprint_figure\u001b[1;34m(fig, fmt, bbox_inches, **kwargs)\u001b[0m\n\u001b[0;32m    122\u001b[0m \u001b[1;33m\u001b[0m\u001b[0m\n\u001b[0;32m    123\u001b[0m     \u001b[0mbytes_io\u001b[0m \u001b[1;33m=\u001b[0m \u001b[0mBytesIO\u001b[0m\u001b[1;33m(\u001b[0m\u001b[1;33m)\u001b[0m\u001b[1;33m\u001b[0m\u001b[0m\n\u001b[1;32m--> 124\u001b[1;33m     \u001b[0mfig\u001b[0m\u001b[1;33m.\u001b[0m\u001b[0mcanvas\u001b[0m\u001b[1;33m.\u001b[0m\u001b[0mprint_figure\u001b[0m\u001b[1;33m(\u001b[0m\u001b[0mbytes_io\u001b[0m\u001b[1;33m,\u001b[0m \u001b[1;33m**\u001b[0m\u001b[0mkw\u001b[0m\u001b[1;33m)\u001b[0m\u001b[1;33m\u001b[0m\u001b[0m\n\u001b[0m\u001b[0;32m    125\u001b[0m     \u001b[0mdata\u001b[0m \u001b[1;33m=\u001b[0m \u001b[0mbytes_io\u001b[0m\u001b[1;33m.\u001b[0m\u001b[0mgetvalue\u001b[0m\u001b[1;33m(\u001b[0m\u001b[1;33m)\u001b[0m\u001b[1;33m\u001b[0m\u001b[0m\n\u001b[0;32m    126\u001b[0m     \u001b[1;32mif\u001b[0m \u001b[0mfmt\u001b[0m \u001b[1;33m==\u001b[0m \u001b[1;34m'svg'\u001b[0m\u001b[1;33m:\u001b[0m\u001b[1;33m\u001b[0m\u001b[0m\n",
      "\u001b[1;32mC:\\Anaconda3\\lib\\site-packages\\matplotlib\\backend_bases.py\u001b[0m in \u001b[0;36mprint_figure\u001b[1;34m(self, filename, dpi, facecolor, edgecolor, orientation, format, **kwargs)\u001b[0m\n\u001b[0;32m   2198\u001b[0m                     \u001b[0morientation\u001b[0m\u001b[1;33m=\u001b[0m\u001b[0morientation\u001b[0m\u001b[1;33m,\u001b[0m\u001b[1;33m\u001b[0m\u001b[0m\n\u001b[0;32m   2199\u001b[0m                     \u001b[0mdryrun\u001b[0m\u001b[1;33m=\u001b[0m\u001b[1;32mTrue\u001b[0m\u001b[1;33m,\u001b[0m\u001b[1;33m\u001b[0m\u001b[0m\n\u001b[1;32m-> 2200\u001b[1;33m                     **kwargs)\n\u001b[0m\u001b[0;32m   2201\u001b[0m                 \u001b[0mrenderer\u001b[0m \u001b[1;33m=\u001b[0m \u001b[0mself\u001b[0m\u001b[1;33m.\u001b[0m\u001b[0mfigure\u001b[0m\u001b[1;33m.\u001b[0m\u001b[0m_cachedRenderer\u001b[0m\u001b[1;33m\u001b[0m\u001b[0m\n\u001b[0;32m   2202\u001b[0m                 \u001b[0mbbox_inches\u001b[0m \u001b[1;33m=\u001b[0m \u001b[0mself\u001b[0m\u001b[1;33m.\u001b[0m\u001b[0mfigure\u001b[0m\u001b[1;33m.\u001b[0m\u001b[0mget_tightbbox\u001b[0m\u001b[1;33m(\u001b[0m\u001b[0mrenderer\u001b[0m\u001b[1;33m)\u001b[0m\u001b[1;33m\u001b[0m\u001b[0m\n",
      "\u001b[1;32mC:\\Anaconda3\\lib\\site-packages\\matplotlib\\backends\\backend_agg.py\u001b[0m in \u001b[0;36mprint_png\u001b[1;34m(self, filename_or_obj, *args, **kwargs)\u001b[0m\n\u001b[0;32m    543\u001b[0m \u001b[1;33m\u001b[0m\u001b[0m\n\u001b[0;32m    544\u001b[0m     \u001b[1;32mdef\u001b[0m \u001b[0mprint_png\u001b[0m\u001b[1;33m(\u001b[0m\u001b[0mself\u001b[0m\u001b[1;33m,\u001b[0m \u001b[0mfilename_or_obj\u001b[0m\u001b[1;33m,\u001b[0m \u001b[1;33m*\u001b[0m\u001b[0margs\u001b[0m\u001b[1;33m,\u001b[0m \u001b[1;33m**\u001b[0m\u001b[0mkwargs\u001b[0m\u001b[1;33m)\u001b[0m\u001b[1;33m:\u001b[0m\u001b[1;33m\u001b[0m\u001b[0m\n\u001b[1;32m--> 545\u001b[1;33m         \u001b[0mFigureCanvasAgg\u001b[0m\u001b[1;33m.\u001b[0m\u001b[0mdraw\u001b[0m\u001b[1;33m(\u001b[0m\u001b[0mself\u001b[0m\u001b[1;33m)\u001b[0m\u001b[1;33m\u001b[0m\u001b[0m\n\u001b[0m\u001b[0;32m    546\u001b[0m         \u001b[0mrenderer\u001b[0m \u001b[1;33m=\u001b[0m \u001b[0mself\u001b[0m\u001b[1;33m.\u001b[0m\u001b[0mget_renderer\u001b[0m\u001b[1;33m(\u001b[0m\u001b[1;33m)\u001b[0m\u001b[1;33m\u001b[0m\u001b[0m\n\u001b[0;32m    547\u001b[0m         \u001b[0moriginal_dpi\u001b[0m \u001b[1;33m=\u001b[0m \u001b[0mrenderer\u001b[0m\u001b[1;33m.\u001b[0m\u001b[0mdpi\u001b[0m\u001b[1;33m\u001b[0m\u001b[0m\n",
      "\u001b[1;32mC:\\Anaconda3\\lib\\site-packages\\matplotlib\\backends\\backend_agg.py\u001b[0m in \u001b[0;36mdraw\u001b[1;34m(self)\u001b[0m\n\u001b[0;32m    462\u001b[0m \u001b[1;33m\u001b[0m\u001b[0m\n\u001b[0;32m    463\u001b[0m         \u001b[1;32mtry\u001b[0m\u001b[1;33m:\u001b[0m\u001b[1;33m\u001b[0m\u001b[0m\n\u001b[1;32m--> 464\u001b[1;33m             \u001b[0mself\u001b[0m\u001b[1;33m.\u001b[0m\u001b[0mfigure\u001b[0m\u001b[1;33m.\u001b[0m\u001b[0mdraw\u001b[0m\u001b[1;33m(\u001b[0m\u001b[0mself\u001b[0m\u001b[1;33m.\u001b[0m\u001b[0mrenderer\u001b[0m\u001b[1;33m)\u001b[0m\u001b[1;33m\u001b[0m\u001b[0m\n\u001b[0m\u001b[0;32m    465\u001b[0m         \u001b[1;32mfinally\u001b[0m\u001b[1;33m:\u001b[0m\u001b[1;33m\u001b[0m\u001b[0m\n\u001b[0;32m    466\u001b[0m             \u001b[0mRendererAgg\u001b[0m\u001b[1;33m.\u001b[0m\u001b[0mlock\u001b[0m\u001b[1;33m.\u001b[0m\u001b[0mrelease\u001b[0m\u001b[1;33m(\u001b[0m\u001b[1;33m)\u001b[0m\u001b[1;33m\u001b[0m\u001b[0m\n",
      "\u001b[1;32mC:\\Anaconda3\\lib\\site-packages\\matplotlib\\artist.py\u001b[0m in \u001b[0;36mdraw_wrapper\u001b[1;34m(artist, renderer, *args, **kwargs)\u001b[0m\n\u001b[0;32m     61\u001b[0m     \u001b[1;32mdef\u001b[0m \u001b[0mdraw_wrapper\u001b[0m\u001b[1;33m(\u001b[0m\u001b[0martist\u001b[0m\u001b[1;33m,\u001b[0m \u001b[0mrenderer\u001b[0m\u001b[1;33m,\u001b[0m \u001b[1;33m*\u001b[0m\u001b[0margs\u001b[0m\u001b[1;33m,\u001b[0m \u001b[1;33m**\u001b[0m\u001b[0mkwargs\u001b[0m\u001b[1;33m)\u001b[0m\u001b[1;33m:\u001b[0m\u001b[1;33m\u001b[0m\u001b[0m\n\u001b[0;32m     62\u001b[0m         \u001b[0mbefore\u001b[0m\u001b[1;33m(\u001b[0m\u001b[0martist\u001b[0m\u001b[1;33m,\u001b[0m \u001b[0mrenderer\u001b[0m\u001b[1;33m)\u001b[0m\u001b[1;33m\u001b[0m\u001b[0m\n\u001b[1;32m---> 63\u001b[1;33m         \u001b[0mdraw\u001b[0m\u001b[1;33m(\u001b[0m\u001b[0martist\u001b[0m\u001b[1;33m,\u001b[0m \u001b[0mrenderer\u001b[0m\u001b[1;33m,\u001b[0m \u001b[1;33m*\u001b[0m\u001b[0margs\u001b[0m\u001b[1;33m,\u001b[0m \u001b[1;33m**\u001b[0m\u001b[0mkwargs\u001b[0m\u001b[1;33m)\u001b[0m\u001b[1;33m\u001b[0m\u001b[0m\n\u001b[0m\u001b[0;32m     64\u001b[0m         \u001b[0mafter\u001b[0m\u001b[1;33m(\u001b[0m\u001b[0martist\u001b[0m\u001b[1;33m,\u001b[0m \u001b[0mrenderer\u001b[0m\u001b[1;33m)\u001b[0m\u001b[1;33m\u001b[0m\u001b[0m\n\u001b[0;32m     65\u001b[0m \u001b[1;33m\u001b[0m\u001b[0m\n",
      "\u001b[1;32mC:\\Anaconda3\\lib\\site-packages\\matplotlib\\figure.py\u001b[0m in \u001b[0;36mdraw\u001b[1;34m(self, renderer)\u001b[0m\n\u001b[0;32m   1142\u001b[0m \u001b[1;33m\u001b[0m\u001b[0m\n\u001b[0;32m   1143\u001b[0m             mimage._draw_list_compositing_images(\n\u001b[1;32m-> 1144\u001b[1;33m                 renderer, self, dsu, self.suppressComposite)\n\u001b[0m\u001b[0;32m   1145\u001b[0m \u001b[1;33m\u001b[0m\u001b[0m\n\u001b[0;32m   1146\u001b[0m             \u001b[0mrenderer\u001b[0m\u001b[1;33m.\u001b[0m\u001b[0mclose_group\u001b[0m\u001b[1;33m(\u001b[0m\u001b[1;34m'figure'\u001b[0m\u001b[1;33m)\u001b[0m\u001b[1;33m\u001b[0m\u001b[0m\n",
      "\u001b[1;32mC:\\Anaconda3\\lib\\site-packages\\matplotlib\\image.py\u001b[0m in \u001b[0;36m_draw_list_compositing_images\u001b[1;34m(renderer, parent, dsu, suppress_composite)\u001b[0m\n\u001b[0;32m    137\u001b[0m     \u001b[1;32mif\u001b[0m \u001b[0mnot_composite\u001b[0m \u001b[1;32mor\u001b[0m \u001b[1;32mnot\u001b[0m \u001b[0mhas_images\u001b[0m\u001b[1;33m:\u001b[0m\u001b[1;33m\u001b[0m\u001b[0m\n\u001b[0;32m    138\u001b[0m         \u001b[1;32mfor\u001b[0m \u001b[0mzorder\u001b[0m\u001b[1;33m,\u001b[0m \u001b[0ma\u001b[0m \u001b[1;32min\u001b[0m \u001b[0mdsu\u001b[0m\u001b[1;33m:\u001b[0m\u001b[1;33m\u001b[0m\u001b[0m\n\u001b[1;32m--> 139\u001b[1;33m             \u001b[0ma\u001b[0m\u001b[1;33m.\u001b[0m\u001b[0mdraw\u001b[0m\u001b[1;33m(\u001b[0m\u001b[0mrenderer\u001b[0m\u001b[1;33m)\u001b[0m\u001b[1;33m\u001b[0m\u001b[0m\n\u001b[0m\u001b[0;32m    140\u001b[0m     \u001b[1;32melse\u001b[0m\u001b[1;33m:\u001b[0m\u001b[1;33m\u001b[0m\u001b[0m\n\u001b[0;32m    141\u001b[0m         \u001b[1;31m# Composite any adjacent images together\u001b[0m\u001b[1;33m\u001b[0m\u001b[1;33m\u001b[0m\u001b[0m\n",
      "\u001b[1;32mC:\\Anaconda3\\lib\\site-packages\\matplotlib\\artist.py\u001b[0m in \u001b[0;36mdraw_wrapper\u001b[1;34m(artist, renderer, *args, **kwargs)\u001b[0m\n\u001b[0;32m     61\u001b[0m     \u001b[1;32mdef\u001b[0m \u001b[0mdraw_wrapper\u001b[0m\u001b[1;33m(\u001b[0m\u001b[0martist\u001b[0m\u001b[1;33m,\u001b[0m \u001b[0mrenderer\u001b[0m\u001b[1;33m,\u001b[0m \u001b[1;33m*\u001b[0m\u001b[0margs\u001b[0m\u001b[1;33m,\u001b[0m \u001b[1;33m**\u001b[0m\u001b[0mkwargs\u001b[0m\u001b[1;33m)\u001b[0m\u001b[1;33m:\u001b[0m\u001b[1;33m\u001b[0m\u001b[0m\n\u001b[0;32m     62\u001b[0m         \u001b[0mbefore\u001b[0m\u001b[1;33m(\u001b[0m\u001b[0martist\u001b[0m\u001b[1;33m,\u001b[0m \u001b[0mrenderer\u001b[0m\u001b[1;33m)\u001b[0m\u001b[1;33m\u001b[0m\u001b[0m\n\u001b[1;32m---> 63\u001b[1;33m         \u001b[0mdraw\u001b[0m\u001b[1;33m(\u001b[0m\u001b[0martist\u001b[0m\u001b[1;33m,\u001b[0m \u001b[0mrenderer\u001b[0m\u001b[1;33m,\u001b[0m \u001b[1;33m*\u001b[0m\u001b[0margs\u001b[0m\u001b[1;33m,\u001b[0m \u001b[1;33m**\u001b[0m\u001b[0mkwargs\u001b[0m\u001b[1;33m)\u001b[0m\u001b[1;33m\u001b[0m\u001b[0m\n\u001b[0m\u001b[0;32m     64\u001b[0m         \u001b[0mafter\u001b[0m\u001b[1;33m(\u001b[0m\u001b[0martist\u001b[0m\u001b[1;33m,\u001b[0m \u001b[0mrenderer\u001b[0m\u001b[1;33m)\u001b[0m\u001b[1;33m\u001b[0m\u001b[0m\n\u001b[0;32m     65\u001b[0m \u001b[1;33m\u001b[0m\u001b[0m\n",
      "\u001b[1;32mC:\\Anaconda3\\lib\\site-packages\\matplotlib\\axes\\_base.py\u001b[0m in \u001b[0;36mdraw\u001b[1;34m(self, renderer, inframe)\u001b[0m\n\u001b[0;32m   2424\u001b[0m             \u001b[0mrenderer\u001b[0m\u001b[1;33m.\u001b[0m\u001b[0mstop_rasterizing\u001b[0m\u001b[1;33m(\u001b[0m\u001b[1;33m)\u001b[0m\u001b[1;33m\u001b[0m\u001b[0m\n\u001b[0;32m   2425\u001b[0m \u001b[1;33m\u001b[0m\u001b[0m\n\u001b[1;32m-> 2426\u001b[1;33m         \u001b[0mmimage\u001b[0m\u001b[1;33m.\u001b[0m\u001b[0m_draw_list_compositing_images\u001b[0m\u001b[1;33m(\u001b[0m\u001b[0mrenderer\u001b[0m\u001b[1;33m,\u001b[0m \u001b[0mself\u001b[0m\u001b[1;33m,\u001b[0m \u001b[0mdsu\u001b[0m\u001b[1;33m)\u001b[0m\u001b[1;33m\u001b[0m\u001b[0m\n\u001b[0m\u001b[0;32m   2427\u001b[0m \u001b[1;33m\u001b[0m\u001b[0m\n\u001b[0;32m   2428\u001b[0m         \u001b[0mrenderer\u001b[0m\u001b[1;33m.\u001b[0m\u001b[0mclose_group\u001b[0m\u001b[1;33m(\u001b[0m\u001b[1;34m'axes'\u001b[0m\u001b[1;33m)\u001b[0m\u001b[1;33m\u001b[0m\u001b[0m\n",
      "\u001b[1;32mC:\\Anaconda3\\lib\\site-packages\\matplotlib\\image.py\u001b[0m in \u001b[0;36m_draw_list_compositing_images\u001b[1;34m(renderer, parent, dsu, suppress_composite)\u001b[0m\n\u001b[0;32m    137\u001b[0m     \u001b[1;32mif\u001b[0m \u001b[0mnot_composite\u001b[0m \u001b[1;32mor\u001b[0m \u001b[1;32mnot\u001b[0m \u001b[0mhas_images\u001b[0m\u001b[1;33m:\u001b[0m\u001b[1;33m\u001b[0m\u001b[0m\n\u001b[0;32m    138\u001b[0m         \u001b[1;32mfor\u001b[0m \u001b[0mzorder\u001b[0m\u001b[1;33m,\u001b[0m \u001b[0ma\u001b[0m \u001b[1;32min\u001b[0m \u001b[0mdsu\u001b[0m\u001b[1;33m:\u001b[0m\u001b[1;33m\u001b[0m\u001b[0m\n\u001b[1;32m--> 139\u001b[1;33m             \u001b[0ma\u001b[0m\u001b[1;33m.\u001b[0m\u001b[0mdraw\u001b[0m\u001b[1;33m(\u001b[0m\u001b[0mrenderer\u001b[0m\u001b[1;33m)\u001b[0m\u001b[1;33m\u001b[0m\u001b[0m\n\u001b[0m\u001b[0;32m    140\u001b[0m     \u001b[1;32melse\u001b[0m\u001b[1;33m:\u001b[0m\u001b[1;33m\u001b[0m\u001b[0m\n\u001b[0;32m    141\u001b[0m         \u001b[1;31m# Composite any adjacent images together\u001b[0m\u001b[1;33m\u001b[0m\u001b[1;33m\u001b[0m\u001b[0m\n",
      "\u001b[1;32mC:\\Anaconda3\\lib\\site-packages\\matplotlib\\artist.py\u001b[0m in \u001b[0;36mdraw_wrapper\u001b[1;34m(artist, renderer, *args, **kwargs)\u001b[0m\n\u001b[0;32m     61\u001b[0m     \u001b[1;32mdef\u001b[0m \u001b[0mdraw_wrapper\u001b[0m\u001b[1;33m(\u001b[0m\u001b[0martist\u001b[0m\u001b[1;33m,\u001b[0m \u001b[0mrenderer\u001b[0m\u001b[1;33m,\u001b[0m \u001b[1;33m*\u001b[0m\u001b[0margs\u001b[0m\u001b[1;33m,\u001b[0m \u001b[1;33m**\u001b[0m\u001b[0mkwargs\u001b[0m\u001b[1;33m)\u001b[0m\u001b[1;33m:\u001b[0m\u001b[1;33m\u001b[0m\u001b[0m\n\u001b[0;32m     62\u001b[0m         \u001b[0mbefore\u001b[0m\u001b[1;33m(\u001b[0m\u001b[0martist\u001b[0m\u001b[1;33m,\u001b[0m \u001b[0mrenderer\u001b[0m\u001b[1;33m)\u001b[0m\u001b[1;33m\u001b[0m\u001b[0m\n\u001b[1;32m---> 63\u001b[1;33m         \u001b[0mdraw\u001b[0m\u001b[1;33m(\u001b[0m\u001b[0martist\u001b[0m\u001b[1;33m,\u001b[0m \u001b[0mrenderer\u001b[0m\u001b[1;33m,\u001b[0m \u001b[1;33m*\u001b[0m\u001b[0margs\u001b[0m\u001b[1;33m,\u001b[0m \u001b[1;33m**\u001b[0m\u001b[0mkwargs\u001b[0m\u001b[1;33m)\u001b[0m\u001b[1;33m\u001b[0m\u001b[0m\n\u001b[0m\u001b[0;32m     64\u001b[0m         \u001b[0mafter\u001b[0m\u001b[1;33m(\u001b[0m\u001b[0martist\u001b[0m\u001b[1;33m,\u001b[0m \u001b[0mrenderer\u001b[0m\u001b[1;33m)\u001b[0m\u001b[1;33m\u001b[0m\u001b[0m\n\u001b[0;32m     65\u001b[0m \u001b[1;33m\u001b[0m\u001b[0m\n",
      "\u001b[1;32mC:\\Anaconda3\\lib\\site-packages\\matplotlib\\text.py\u001b[0m in \u001b[0;36mdraw\u001b[1;34m(self, renderer)\u001b[0m\n\u001b[0;32m    760\u001b[0m             \u001b[0mposy\u001b[0m \u001b[1;33m=\u001b[0m \u001b[0mfloat\u001b[0m\u001b[1;33m(\u001b[0m\u001b[0mtextobj\u001b[0m\u001b[1;33m.\u001b[0m\u001b[0mconvert_yunits\u001b[0m\u001b[1;33m(\u001b[0m\u001b[0mtextobj\u001b[0m\u001b[1;33m.\u001b[0m\u001b[0m_y\u001b[0m\u001b[1;33m)\u001b[0m\u001b[1;33m)\u001b[0m\u001b[1;33m\u001b[0m\u001b[0m\n\u001b[0;32m    761\u001b[0m             \u001b[1;32mif\u001b[0m \u001b[1;32mnot\u001b[0m \u001b[0mnp\u001b[0m\u001b[1;33m.\u001b[0m\u001b[0misfinite\u001b[0m\u001b[1;33m(\u001b[0m\u001b[0mposx\u001b[0m\u001b[1;33m)\u001b[0m \u001b[1;32mor\u001b[0m \u001b[1;32mnot\u001b[0m \u001b[0mnp\u001b[0m\u001b[1;33m.\u001b[0m\u001b[0misfinite\u001b[0m\u001b[1;33m(\u001b[0m\u001b[0mposy\u001b[0m\u001b[1;33m)\u001b[0m\u001b[1;33m:\u001b[0m\u001b[1;33m\u001b[0m\u001b[0m\n\u001b[1;32m--> 762\u001b[1;33m                 \u001b[1;32mraise\u001b[0m \u001b[0mValueError\u001b[0m\u001b[1;33m(\u001b[0m\u001b[1;34m\"posx and posy should be finite values\"\u001b[0m\u001b[1;33m)\u001b[0m\u001b[1;33m\u001b[0m\u001b[0m\n\u001b[0m\u001b[0;32m    763\u001b[0m             \u001b[0mposx\u001b[0m\u001b[1;33m,\u001b[0m \u001b[0mposy\u001b[0m \u001b[1;33m=\u001b[0m \u001b[0mtrans\u001b[0m\u001b[1;33m.\u001b[0m\u001b[0mtransform_point\u001b[0m\u001b[1;33m(\u001b[0m\u001b[1;33m(\u001b[0m\u001b[0mposx\u001b[0m\u001b[1;33m,\u001b[0m \u001b[0mposy\u001b[0m\u001b[1;33m)\u001b[0m\u001b[1;33m)\u001b[0m\u001b[1;33m\u001b[0m\u001b[0m\n\u001b[0;32m    764\u001b[0m             \u001b[0mcanvasw\u001b[0m\u001b[1;33m,\u001b[0m \u001b[0mcanvash\u001b[0m \u001b[1;33m=\u001b[0m \u001b[0mrenderer\u001b[0m\u001b[1;33m.\u001b[0m\u001b[0mget_canvas_width_height\u001b[0m\u001b[1;33m(\u001b[0m\u001b[1;33m)\u001b[0m\u001b[1;33m\u001b[0m\u001b[0m\n",
      "\u001b[1;31mValueError\u001b[0m: posx and posy should be finite values"
     ]
    },
    {
     "data": {
      "text/plain": [
       "<matplotlib.figure.Figure at 0x17cb05c0>"
      ]
     },
     "metadata": {},
     "output_type": "display_data"
    }
   ],
   "source": [
    "fig, ax = plt.subplots(figsize=(16.5/2.54, 8/2.54))\n",
    "\n",
    "brug = 'Vianen'\n",
    "\n",
    "tabel = tabellen[brug]\n",
    "database = settings[brug]['database']['grenspeil']['2018']\n",
    "\n",
    "spindices = tabel.index.tolist()\n",
    "steunpunten = {\n",
    "    'Brug': [item for item in spindices if item.startswith('Brug SP')],\n",
    "    'Meetlocatie': [item for item in spindices if item.startswith('Meetloc SP')],\n",
    "    'Brug (ZSS)': [item for item in spindices if item.startswith('ZSS SP')],\n",
    "}\n",
    "if not steunpunten['Brug (ZSS)']:\n",
    "    del steunpunten['Brug (ZSS)']\n",
    "    \n",
    "# Leidt interpolatieafstanden af\n",
    "afstanden, aslijnnr = hulpfuncties.bepaal_langsafstand(\n",
    "    brug, settings, aslijnen['01_bovenrijn'], locaties, meetlocaties, bruglocaties)\n",
    "    \n",
    "locaties[database]\n",
    "\n",
    "# display(tabel)\n",
    "\n",
    "spids = steunpunten['Brug'] + steunpunten['Meetlocatie']\n",
    "names = ['Lek km  952', 'Lek km  951', 'Lek km  947', 'Lek km  948']\n",
    "x = [afstanden[name] for name in names]\n",
    "\n",
    "texts = []\n",
    "for scenario in ['2018', '2100G']:\n",
    "    for T in ['T=2', 'T=10']:\n",
    "        label = '{}, {}'.format(scenario, T)\n",
    "        ax.plot(sorted(x), tabel.loc[spids, ('Hydra-NL', scenario, T)].values[np.argsort(x)], marker='.')\n",
    "        txt = ax.text(max(x)+50, tabel.loc[spids, ('Hydra-NL', scenario, T)].values[np.argmax(x)], label, va='center')\n",
    "        texts.append(txt)\n",
    "\n",
    "ax.set_ylim(ax.get_ylim())\n",
    "ax.plot([afstanden['brug']] * 2, ax.get_ylim(), 'k--', lw=1.5)\n",
    "ax.plot([afstanden['meetlocatie']] * 2, ax.get_ylim(), 'k--', lw=1.5)\n",
    "\n",
    "ax.grid()\n",
    "ax.legend(fancybox=False)\n",
    "\n",
    "fig.set_tight_layout('tight')\n",
    "\n",
    "ax.set_ylabel('Waterstand [m+NAP]')\n",
    "ax.set_xlabel('Afstand langs rivieras')\n",
    "\n",
    "ax.spines['top'].set_visible(False)\n",
    "ax.spines['right'].set_visible(False)\n",
    "ax.spines['left'].set_visible(False)\n",
    "\n"
   ]
  },
  {
   "cell_type": "code",
   "execution_count": 15,
   "metadata": {},
   "outputs": [
    {
     "data": {
      "text/plain": [
       "{'Lek km  947': 39997.96634829819,\n",
       " 'Lek km  948': 38998.31791009604,\n",
       " 'Lek km  951': 36396.681457645245,\n",
       " 'Lek km  952': 35412.17650590554,\n",
       " 'Lek km 951': 36396.681457645245,\n",
       " 'Lek km 952': 35412.17650590554,\n",
       " 'brug': 35782.13284454453,\n",
       " 'meetlocatie': 39890.93672076992,\n",
       " 'zeespiegelstijging': 35782.13284454453}"
      ]
     },
     "execution_count": 15,
     "metadata": {},
     "output_type": "execute_result"
    }
   ],
   "source": [
    "afstanden"
   ]
  },
  {
   "cell_type": "code",
   "execution_count": 16,
   "metadata": {},
   "outputs": [
    {
     "name": "stdout",
     "output_type": "stream",
     "text": [
      "T=2                       3.76258\n",
      "T=10                      4.75055\n",
      "x                          137480\n",
      "y                          445020\n",
      "bron                       hw_RMM\n",
      "geometry    POINT (137480 445020)\n",
      "Name: Vianen, dtype: object\n",
      "omschrijvi           A2 brug bij Vianen (Jan Blankenbrug)\n",
      "id                                                      1\n",
      "geometry      POINT (133817.0127042203 445534.2400786425)\n",
      "x                                                  133817\n",
      "y                                                  445534\n",
      "Name: Vianen, dtype: object\n"
     ]
    }
   ],
   "source": [
    "print(meetlocaties.loc[brug])\n",
    "\n",
    "print(bruglocaties.loc[brug])"
   ]
  },
  {
   "cell_type": "code",
   "execution_count": 17,
   "metadata": {},
   "outputs": [
    {
     "name": "stdout",
     "output_type": "stream",
     "text": [
      "39890.93672076992\n",
      "35782.13284454453\n"
     ]
    }
   ],
   "source": [
    "aslijn = aslijnen['01_bovenrijn'].loc[1]['geometry']\n",
    "\n",
    "print(aslijn.project(meetlocaties.loc[brug, 'geometry']))\n",
    "print(aslijn.project(bruglocaties.loc[brug, 'geometry']))"
   ]
  },
  {
   "cell_type": "code",
   "execution_count": null,
   "metadata": {
    "collapsed": true
   },
   "outputs": [],
   "source": []
  }
 ],
 "metadata": {
  "kernelspec": {
   "display_name": "Python 3",
   "language": "python",
   "name": "python3"
  },
  "language_info": {
   "codemirror_mode": {
    "name": "ipython",
    "version": 3
   },
   "file_extension": ".py",
   "mimetype": "text/x-python",
   "name": "python",
   "nbconvert_exporter": "python",
   "pygments_lexer": "ipython3",
   "version": "3.6.6"
  }
 },
 "nbformat": 4,
 "nbformat_minor": 2
}
