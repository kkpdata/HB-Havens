{
 "cells": [
  {
   "cell_type": "markdown",
   "metadata": {},
   "source": [
    "# Eenvoudige methode (Vlissingen)\n",
    "\n",
    "Deze notebook geeft een voorbeeld van het gebruik van HB-Havens zonder GUI. Voor vlissingen zal de eenvoudige methode doorlopen worden."
   ]
  },
  {
   "cell_type": "code",
   "execution_count": 1,
   "metadata": {},
   "outputs": [],
   "source": [
    "# Importeren modules\n",
    "# Standaard python-modules\n",
    "import sys\n",
    "import os\n",
    "import itertools\n",
    "import shutil\n",
    "import re\n",
    "\n",
    "# We voegen de parent directory toe aan de mappenstructuur, omdat hier (bij mij) de module hbhavnes staat.\n",
    "if '..' not in sys.path:\n",
    "    sys.path.append('..')\n",
    "\n",
    "# Standaard rekenmodules\n",
    "import numpy as np\n",
    "\n",
    "# Specifieke hb havens modules\n",
    "from hbhavens.core.models import MainModel\n",
    "from hbhavens.core import geometry\n",
    "\n",
    "# GIS-modules\n",
    "import geopandas as gpd\n",
    "from shapely.geometry import box\n",
    "\n",
    "# Voor het plotten\n",
    "import matplotlib.pyplot as plt\n",
    "% matplotlib inline\n",
    "\n",
    "\n",
    "import cProfile, pstats\n",
    "from io import StringIO\n"
   ]
  },
  {
   "cell_type": "markdown",
   "metadata": {},
   "source": [
    "## Definieer paden"
   ]
  },
  {
   "cell_type": "code",
   "execution_count": 2,
   "metadata": {
    "collapsed": true
   },
   "outputs": [],
   "source": [
    "shape_folder = '../bin/lauwersoog_variant1'\n",
    "harborarea_shape = os.path.join(shape_folder, 'Haventerrein_Lauwersoog_JGS.shp')\n",
    "breakwater_shape = os.path.join(shape_folder, 'Havendam01_JGS.shp')\n",
    "# breakwaters = gpd.read_file(breakwater_shape)\n",
    "# breakwaters['alpha'] = breakwaters['alpha'].astype(str)\n",
    "# breakwaters.to_file(breakwater_shape.replace('.shp', '_corrupt.shp'))\n",
    "\n",
    "# breakwater_shape = breakwater_shape.replace('.shp', '_corrupt.shp')\n",
    "\n",
    "hrd_pad = os.path.join(shape_folder, 'WBI2017_Lauwersoog_v01_JGS.sqlite')\n",
    "# config_pad = os.path.join(shape_folder, 'WBI2017_Westerschelde_29-3_29-4_v03.config.sqlite')\n",
    "hlcd_pad = os.path.join(shape_folder, 'hlcd.sqlite')"
   ]
  },
  {
   "cell_type": "markdown",
   "metadata": {},
   "source": [
    "## Schematisatie"
   ]
  },
  {
   "cell_type": "code",
   "execution_count": 3,
   "metadata": {
    "scrolled": true
   },
   "outputs": [
    {
     "ename": "TypeError",
     "evalue": "Column \"Normaal\" has datatype \"numpy.int64\". Expected \"(<class 'float'>, <class 'int'>)\" or a numpy equivalent.",
     "output_type": "error",
     "traceback": [
      "\u001b[1;31m---------------------------------------------------------------------------\u001b[0m",
      "\u001b[1;31mTypeError\u001b[0m                                 Traceback (most recent call last)",
      "\u001b[1;32m<ipython-input-3-309de525eabd>\u001b[0m in \u001b[0;36m<module>\u001b[1;34m()\u001b[0m\n\u001b[0;32m     19\u001b[0m \u001b[1;33m\u001b[0m\u001b[0m\n\u001b[0;32m     20\u001b[0m \u001b[1;31m# Genereer uitvoerlocaties\u001b[0m\u001b[1;33m\u001b[0m\u001b[1;33m\u001b[0m\u001b[0m\n\u001b[1;32m---> 21\u001b[1;33m \u001b[0mmainmodel\u001b[0m\u001b[1;33m.\u001b[0m\u001b[0mschematisation\u001b[0m\u001b[1;33m.\u001b[0m\u001b[0madd_result_locations\u001b[0m\u001b[1;33m(\u001b[0m\u001b[0mos\u001b[0m\u001b[1;33m.\u001b[0m\u001b[0mpath\u001b[0m\u001b[1;33m.\u001b[0m\u001b[0mjoin\u001b[0m\u001b[1;33m(\u001b[0m\u001b[0mshape_folder\u001b[0m\u001b[1;33m,\u001b[0m \u001b[1;34m'Locaties_JGS.shp'\u001b[0m\u001b[1;33m)\u001b[0m\u001b[1;33m)\u001b[0m\u001b[1;33m\u001b[0m\u001b[0m\n\u001b[0m\u001b[0;32m     22\u001b[0m \u001b[1;33m\u001b[0m\u001b[0m\n\u001b[0;32m     23\u001b[0m \u001b[1;31m# Set support location\u001b[0m\u001b[1;33m\u001b[0m\u001b[1;33m\u001b[0m\u001b[0m\n",
      "\u001b[1;32md:\\Documents\\0000.01 HB Havens\\applications\\HB Havens\\trunk\\hbhavens\\core\\models.py\u001b[0m in \u001b[0;36madd_result_locations\u001b[1;34m(self, path)\u001b[0m\n\u001b[0;32m   1068\u001b[0m         \u001b[0mself\u001b[0m\u001b[1;33m.\u001b[0m\u001b[0m_check_types\u001b[0m\u001b[1;33m(\u001b[0m\u001b[0mself\u001b[0m\u001b[1;33m.\u001b[0m\u001b[0mresult_locations\u001b[0m\u001b[1;33m,\u001b[0m \u001b[0mPoint\u001b[0m\u001b[1;33m)\u001b[0m\u001b[1;33m\u001b[0m\u001b[0m\n\u001b[0;32m   1069\u001b[0m         \u001b[1;31m# Check columns\u001b[0m\u001b[1;33m\u001b[0m\u001b[1;33m\u001b[0m\u001b[0m\n\u001b[1;32m-> 1070\u001b[1;33m         \u001b[0mself\u001b[0m\u001b[1;33m.\u001b[0m\u001b[0m_check_columns\u001b[0m\u001b[1;33m(\u001b[0m\u001b[0mself\u001b[0m\u001b[1;33m.\u001b[0m\u001b[0mresult_locations\u001b[0m\u001b[1;33m,\u001b[0m \u001b[1;33m[\u001b[0m\u001b[1;34m'Normaal'\u001b[0m\u001b[1;33m]\u001b[0m\u001b[1;33m,\u001b[0m \u001b[1;33m[\u001b[0m\u001b[1;33m(\u001b[0m\u001b[0mfloat\u001b[0m\u001b[1;33m,\u001b[0m \u001b[0mint\u001b[0m\u001b[1;33m)\u001b[0m\u001b[1;33m]\u001b[0m\u001b[1;33m)\u001b[0m\u001b[1;33m\u001b[0m\u001b[0m\n\u001b[0m\u001b[0;32m   1071\u001b[0m         \u001b[1;31m# Add name if not present\u001b[0m\u001b[1;33m\u001b[0m\u001b[1;33m\u001b[0m\u001b[0m\n\u001b[0;32m   1072\u001b[0m         \u001b[1;32mif\u001b[0m \u001b[1;34m'Naam'\u001b[0m \u001b[1;32mnot\u001b[0m \u001b[1;32min\u001b[0m \u001b[0mself\u001b[0m\u001b[1;33m.\u001b[0m\u001b[0mresult_locations\u001b[0m\u001b[1;33m.\u001b[0m\u001b[0mcolumns\u001b[0m\u001b[1;33m:\u001b[0m\u001b[1;33m\u001b[0m\u001b[0m\n",
      "\u001b[1;32md:\\Documents\\0000.01 HB Havens\\applications\\HB Havens\\trunk\\hbhavens\\core\\models.py\u001b[0m in \u001b[0;36m_check_columns\u001b[1;34m(self, geodataframe, columns, types)\u001b[0m\n\u001b[0;32m   1224\u001b[0m                     \u001b[1;31m# types_str =\u001b[0m\u001b[1;33m\u001b[0m\u001b[1;33m\u001b[0m\u001b[0m\n\u001b[0;32m   1225\u001b[0m                     raise TypeError('Column \"{}\" has datatype \"{}\". Expected \"{}\" or a numpy equivalent.'.format(\n\u001b[1;32m-> 1226\u001b[1;33m                         column, repr(type(geodataframe[column][0])).split('\\'')[1], types[i]))\n\u001b[0m\u001b[0;32m   1227\u001b[0m \u001b[1;33m\u001b[0m\u001b[0m\n\u001b[0;32m   1228\u001b[0m     \u001b[1;32mdef\u001b[0m \u001b[0mgenerate_result_locations\u001b[0m\u001b[1;33m(\u001b[0m\u001b[0mself\u001b[0m\u001b[1;33m,\u001b[0m \u001b[0mdistance\u001b[0m\u001b[1;33m,\u001b[0m \u001b[0minterval\u001b[0m\u001b[1;33m,\u001b[0m \u001b[0minterp_length\u001b[0m\u001b[1;33m)\u001b[0m\u001b[1;33m:\u001b[0m\u001b[1;33m\u001b[0m\u001b[0m\n",
      "\u001b[1;31mTypeError\u001b[0m: Column \"Normaal\" has datatype \"numpy.int64\". Expected \"(<class 'float'>, <class 'int'>)\" or a numpy equivalent."
     ]
    }
   ],
   "source": [
    "# Create mainmodel\n",
    "mainmodel = MainModel()\n",
    "\n",
    "# Add flooddefence\n",
    "for trajectid in ['6-5']:\n",
    "    mainmodel.schematisation.add_flooddefence(trajectid)\n",
    "\n",
    "# Voeg haventerrein en havendammen toe\n",
    "harborarea = mainmodel.schematisation.add_harborarea(harborarea_shape)\n",
    "breakwaters = mainmodel.schematisation.add_breakwater(breakwater_shape)\n",
    "\n",
    "# Bepaal  het binnengaats gebied\n",
    "mainmodel.schematisation.generate_harbor_bound()\n",
    "\n",
    "mainmodel.schematisation.bedlevel = -10.0\n",
    "\n",
    "# Add database\n",
    "mainmodel.input_databases.add_HRD(hrd_pad)\n",
    "                                  \n",
    "# Genereer uitvoerlocaties\n",
    "mainmodel.schematisation.add_result_locations(os.path.join(shape_folder, 'Locaties_JGS.shp'))\n",
    "\n",
    "# Set support location\n",
    "supportlocationname = 'WZ_3_ha04-00010'\n",
    "mainmodel.schematisation.set_selected_support_location(supportlocationname)\n"
   ]
  },
  {
   "cell_type": "code",
   "execution_count": 4,
   "metadata": {
    "collapsed": true
   },
   "outputs": [],
   "source": [
    "import re\n",
    "\n",
    "re.findall('\\'(.+)\\'')\n"
   ]
  },
  {
   "cell_type": "markdown",
   "metadata": {},
   "source": [
    "## Visualiseer schematisatie"
   ]
  },
  {
   "cell_type": "code",
   "execution_count": null,
   "metadata": {},
   "outputs": [],
   "source": [
    "fig, ax = plt.subplots(figsize=(15,15))\n",
    "ax.set_aspect(1.0)\n",
    "mainmodel.schematisation.harborarea.plot(ax=ax, zorder=2, alpha=0.5)\n",
    "mainmodel.schematisation.breakwaters.plot(ax=ax, color='C1')\n",
    "\n",
    "mainmodel.schematisation.result_locations.plot(ax=ax, color='k', marker='.', zorder=10)\n",
    "\n",
    "# mainmodel.schematisation.result_locations['Naam'] = ['P{:03d}'.format(i) for i in np.arange(75, 290, 15)[::-1]]\n",
    "for _, loc in mainmodel.schematisation.result_locations.iterrows():\n",
    "    ax.text(loc['geometry'].coords[0][0], loc['geometry'].coords[0][1], loc['Naam'])\n",
    "ax.set_xlim(ax.get_xlim())\n",
    "ax.set_ylim(ax.get_ylim())\n",
    "    \n",
    "mainmodel.schematisation.flooddefence.plot(ax=ax, color='C3')\n",
    "\n"
   ]
  },
  {
   "cell_type": "markdown",
   "metadata": {},
   "source": [
    "## Hydraulische belastingen"
   ]
  },
  {
   "cell_type": "code",
   "execution_count": null,
   "metadata": {
    "collapsed": true
   },
   "outputs": [],
   "source": [
    "# df = mainmodel.input_databases.hydraulic_loads\n",
    "# idx = (df['Wind direction'] == 240) & (df['Wind speed'] == 30) & (df['Water level'] == 6)\n",
    "\n",
    "# mainmodel.input_databases.hydraulic_loads = df.loc[idx]"
   ]
  },
  {
   "cell_type": "code",
   "execution_count": null,
   "metadata": {
    "collapsed": true
   },
   "outputs": [],
   "source": [
    "# df = mainmodel.input_databases.hydraulic_loads\n",
    "\n",
    "# mainmodel.input_databases.hydraulic_loads = df.loc[[2835, 3048]]"
   ]
  },
  {
   "cell_type": "code",
   "execution_count": null,
   "metadata": {},
   "outputs": [],
   "source": [
    "mainmodel.input_databases.hydraulic_loads.head()"
   ]
  },
  {
   "cell_type": "markdown",
   "metadata": {},
   "source": [
    "## Berekening eenvoudige methode"
   ]
  },
  {
   "cell_type": "code",
   "execution_count": null,
   "metadata": {
    "scrolled": false
   },
   "outputs": [],
   "source": [
    "# Geef eerst in de projectinstellingen aan dat de eenvoudige methode gebruikt moet worden\n",
    "mainmodel.project.settings['calculation_method']['method'] = 'simple'\n",
    "\n",
    "pr = cProfile.Profile()\n",
    "pr.enable()\n",
    "\n",
    "# Initialiseer\n",
    "mainmodel.simple_calculation.initialize()\n",
    "\n",
    "# Draai de verschillende processen\n",
    "mainmodel.simple_calculation.diffraction.run()\n",
    "mainmodel.simple_calculation.transmission.run()\n",
    "mainmodel.simple_calculation.wavebreaking.run()\n",
    "mainmodel.simple_calculation.wavegrowth.run()\n",
    "\n",
    "# # Voeg uitvoer toe aan combinatie class\n",
    "# mainmodel.simple_calculation.combinedresults.add_output(\n",
    "#     diffraction=mainmodel.simple_calculation.diffraction.output,\n",
    "#     transmission=mainmodel.simple_calculation.transmission.output,\n",
    "#     wavegrowth=mainmodel.simple_calculation.wavegrowth.output,\n",
    "#     wavebreaking=mainmodel.simple_calculation.wavebreaking.output\n",
    "# )\n",
    "\n",
    "# # Combineer het resultaat\n",
    "# mainmodel.simple_calculation.combinedresults.run(\n",
    "#     processes=['Diffractie', 'Transmissie', 'Lokale golfgroei', 'Golfbreking'])\n",
    "\n",
    "pr.disable()\n",
    "s = StringIO()\n",
    "sortby = 'cumulative'\n",
    "ps = pstats.Stats(pr, stream=s).sort_stats(sortby)\n",
    "ps.print_stats()\n",
    "with open('profile.txt', 'w') as f:\n",
    "    f.write(s.getvalue())"
   ]
  },
  {
   "cell_type": "code",
   "execution_count": null,
   "metadata": {
    "collapsed": true
   },
   "outputs": [],
   "source": []
  },
  {
   "cell_type": "code",
   "execution_count": null,
   "metadata": {},
   "outputs": [],
   "source": [
    "def plot_harbor():\n",
    "\n",
    "    fig, ax = plt.subplots(figsize=(15,15))\n",
    "    ax.set_aspect(1.0)\n",
    "    mainmodel.schematisation.harborarea.plot(ax=ax, zorder=2, alpha=0.5)\n",
    "    for breakwater in mainmodel.schematisation.breakwaters.itertuples():\n",
    "        ax.plot(*breakwater.geometry.xy, color='C1')\n",
    "        ax.text(*breakwater.breakwaterhead.coords[0], breakwater.Index)\n",
    "\n",
    "\n",
    "    mainmodel.schematisation.result_locations.plot(ax=ax, color='k', marker='.', zorder=10)\n",
    "\n",
    "    # mainmodel.schematisation.result_locations['Naam'] = ['P{:03d}'.format(i) for i in np.arange(75, 290, 15)[::-1]]\n",
    "    for _, loc in mainmodel.schematisation.result_locations.iterrows():\n",
    "        ax.text(loc['geometry'].coords[0][0], loc['geometry'].coords[0][1], loc['Naam'])\n",
    "    ax.set_xlim(ax.get_xlim())\n",
    "    ax.set_ylim(ax.get_ylim())\n",
    "\n",
    "    mainmodel.schematisation.flooddefence.plot(ax=ax, color='C3')\n",
    "    \n",
    "    return fig, ax\n",
    "\n",
    "fig, ax = plot_harbor()"
   ]
  },
  {
   "cell_type": "code",
   "execution_count": null,
   "metadata": {},
   "outputs": [],
   "source": [
    "mainmodel.simple_calculation.transmission.output.sort_values(by='Kt', ascending=False)"
   ]
  },
  {
   "cell_type": "code",
   "execution_count": null,
   "metadata": {},
   "outputs": [],
   "source": [
    "fig, ax = plot_harbor()\n",
    "\n",
    "wavedirection = 78.694007 \t\n",
    "leftline, rightline = mainmodel.simple_calculation.transmission._determine_transmission_zone(0, wavedirection)\n",
    "\n",
    "ax.plot(*leftline.T, 'k--')\n",
    "ax.plot(*rightline.T, 'k:')\n"
   ]
  },
  {
   "cell_type": "code",
   "execution_count": null,
   "metadata": {},
   "outputs": [],
   "source": [
    "locationnames = mainmodel.simple_calculation.diffraction.result_locations['Naam'].values\n",
    "locationcoords = np.stack(mainmodel.simple_calculation.diffraction.result_locations['geometry'].values)\n",
    "# Select the locations within the transmission zone (and right side of breakwater)\n",
    "inzone = (\n",
    "    geometry.is_left(locationcoords, rightline) &\n",
    "    ~geometry.is_left(locationcoords, leftline) &\n",
    "    geometry.is_left(locationcoords, [leftline[0], rightline[0]])\n",
    ")\n",
    "\n",
    "fig, ax = plot_harbor()\n",
    "\n",
    "outside = []\n",
    "for i, (name, crd) in enumerate(zip(locationnames, locationcoords)):\n",
    "    line = geometry.extend_point_to_linestring(crd, (wavedirection - 180) % 360, (0, 100000), as_LineString=True)\n",
    "    ax.plot(*line.coords.xy, 'k:')\n",
    "    if mainmodel.schematisation.entrance.intersects(line) and not inzone[i]:\n",
    "        outside.append(name)\n",
    "\n",
    "\n",
    "        \n",
    "print(inzone, outside)\n",
    "\n"
   ]
  },
  {
   "cell_type": "code",
   "execution_count": null,
   "metadata": {},
   "outputs": [],
   "source": [
    "type(mainmodel.schematisation.breakwaters['hoogte'][0])"
   ]
  },
  {
   "cell_type": "code",
   "execution_count": null,
   "metadata": {
    "collapsed": true
   },
   "outputs": [],
   "source": [
    "a = str"
   ]
  },
  {
   "cell_type": "code",
   "execution_count": null,
   "metadata": {},
   "outputs": [],
   "source": []
  },
  {
   "cell_type": "code",
   "execution_count": null,
   "metadata": {
    "collapsed": true
   },
   "outputs": [],
   "source": []
  }
 ],
 "metadata": {
  "kernelspec": {
   "display_name": "Python 3",
   "language": "python",
   "name": "python3"
  },
  "language_info": {
   "codemirror_mode": {
    "name": "ipython",
    "version": 3
   },
   "file_extension": ".py",
   "mimetype": "text/x-python",
   "name": "python",
   "nbconvert_exporter": "python",
   "pygments_lexer": "ipython3",
   "version": "3.6.6"
  }
 },
 "nbformat": 4,
 "nbformat_minor": 2
}
